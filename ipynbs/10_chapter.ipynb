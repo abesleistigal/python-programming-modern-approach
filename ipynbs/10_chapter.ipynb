{
 "cells": [
  {
   "cell_type": "code",
   "execution_count": null,
   "metadata": {
    "collapsed": true
   },
   "outputs": [],
   "source": [
    "from turtle import *\n",
    "t = Turtle()\n",
    "for i in range(4):\n",
    "    t.forward(50)\n",
    "    t.left(90)\n",
    "    t.circle(25)\n",
    "\n",
    "done()\n"
   ]
  },
  {
   "cell_type": "code",
   "execution_count": null,
   "metadata": {},
   "outputs": [],
   "source": [
    "from turtle import *\n",
    "\n",
    "\n",
    "def draw_rectangle():\n",
    "    for i in range(4):\n",
    "        t.forward(50)\n",
    "        t.left(90)\n",
    "\n",
    "\n",
    "t = Turtle()\n",
    "\n",
    "for i in range(36):\n",
    "    draw_rectangle()\n",
    "    t.left(10)\n",
    "done()\n"
   ]
  },
  {
   "cell_type": "code",
   "execution_count": null,
   "metadata": {},
   "outputs": [],
   "source": [
    "from turtle import *\n",
    "\n",
    "\n",
    "def f(length, depth):\n",
    "    if depth == 0:\n",
    "        forward(length)\n",
    "    else:\n",
    "        f(length / 3, depth - 1)\n",
    "        right(60)\n",
    "        f(length / 3, depth - 1)\n",
    "        left(120)\n",
    "        f(length / 3, depth - 1)\n",
    "        right(60)\n",
    "        f(length / 3, depth - 1)\n",
    "\n",
    "\n",
    "f(500, 4)\n",
    "done()\n"
   ]
  },
  {
   "cell_type": "code",
   "execution_count": null,
   "metadata": {},
   "outputs": [],
   "source": [
    "from turtle import *\n",
    "turtle = Turtle()\n",
    "\n",
    "turtle.color(\"blue\")\n",
    "\n",
    "for i in range(50):\n",
    "    turtle.forward(50)\n",
    "    turtle.left(123)  # Let's go counterclockwise this time\n",
    "\n",
    "turtle.color(\"red\")\n",
    "for i in range(50):\n",
    "    turtle.forward(100)\n",
    "    turtle.left(123)\n",
    "\n",
    "done()\n"
   ]
  },
  {
   "cell_type": "code",
   "execution_count": null,
   "metadata": {},
   "outputs": [],
   "source": [
    "from turtle import *\n",
    "turtle = Turtle()\n",
    "\n",
    "turtle.color(\"blue\")\n",
    "\n",
    "for i in range(50):\n",
    "    turtle.forward(50)\n",
    "    turtle.left(123)  # Let's go counterclockwise this time\n",
    "\n",
    "turtle.color(\"red\")\n",
    "for i in range(50):\n",
    "    turtle.forward(100)\n",
    "    turtle.left(123)\n",
    "\n",
    "done()\n"
   ]
  },
  {
   "cell_type": "code",
   "execution_count": null,
   "metadata": {},
   "outputs": [],
   "source": [
    "from turtle import *\n",
    "\n",
    "t = Turtle()    # Creates a turtle in a window\n",
    "t.forward(50)\n",
    "t.left(45)\n",
    "t.backward(50)\n",
    "t.right(45)\n",
    "t.forward(50)\n",
    "t.circle(10)\n",
    "t.up()\n",
    "t.forward(50)\n",
    "t.down()\n",
    "t.color('red')\n",
    "t.right(90)\n",
    "t.forward(50)\n",
    "t.done()\n"
   ]
  },
  {
   "cell_type": "code",
   "execution_count": null,
   "metadata": {},
   "outputs": [],
   "source": [
    "from turtle import *\n",
    "\n",
    "\n",
    "def draw_square(turtle):\n",
    "    \"\"\"\n",
    "    Turtle to Draw a Square.\n",
    "    \"\"\"\n",
    "    turtle.forward(50)\n",
    "    turtle.left(90)\n",
    "    turtle.forward(50)\n",
    "    turtle.left(90)\n",
    "    turtle.forward(50)\n",
    "    turtle.left(90)\n",
    "    turtle.forward(50)\n",
    "    turtle.left(90)\n",
    "\n",
    "\n",
    "t = Turtle()\n",
    "draw_square(t)\n",
    "done()\n"
   ]
  },
  {
   "cell_type": "code",
   "execution_count": null,
   "metadata": {},
   "outputs": [],
   "source": [
    "from turtle import *\n",
    "import random\n",
    "\n",
    "\n",
    "def random_walk(turtle, turns, distance=20):\n",
    "    \"\"\"\n",
    "     Turns a random number of degrees and moves\n",
    "     a given distance for a fixed number of turns.\n",
    "    \"\"\"\n",
    "    turtle.width(1)\n",
    "    for x in range(turns):\n",
    "        turtle.rt(random.randint(0, 360))\n",
    "        turtle.forward(distance)\n",
    "\n",
    "\n",
    "random_walk(Turtle(), 30)\n",
    "done()\n"
   ]
  },
  {
   "cell_type": "code",
   "execution_count": null,
   "metadata": {
    "collapsed": true
   },
   "outputs": [],
   "source": []
  }
 ],
 "metadata": {
  "kernelspec": {
   "display_name": "Python 3",
   "language": "python",
   "name": "python3"
  },
  "language_info": {
   "codemirror_mode": {
    "name": "ipython",
    "version": 3
   },
   "file_extension": ".py",
   "mimetype": "text/x-python",
   "name": "python",
   "nbconvert_exporter": "python",
   "pygments_lexer": "ipython3",
   "version": "3.6.1"
  }
 },
 "nbformat": 4,
 "nbformat_minor": 2
}
