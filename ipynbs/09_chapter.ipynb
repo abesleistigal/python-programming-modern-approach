{
 "cells": [
  {
   "cell_type": "code",
   "execution_count": 1,
   "metadata": {
    "collapsed": true
   },
   "outputs": [],
   "source": [
    "from tkinter import *\n",
    "\n",
    "\n",
    "def callback():\n",
    "    label.configure(text='Button clicked')\n",
    "\n",
    "\n",
    "root = Tk()\n",
    "label = Label(text='Not clicked')\n",
    "button = Button(text='Click me', command=callback)\n",
    "label.grid(row=0, column=0)\n",
    "button.grid(row=1, column=0)\n",
    "root.mainloop()\n"
   ]
  },
  {
   "cell_type": "code",
   "execution_count": 2,
   "metadata": {
    "collapsed": true
   },
   "outputs": [],
   "source": [
    "from tkinter import *\n",
    "alphabet = 'ABCDEFGHIJKLMNOPQRSTUVWXYZ'\n",
    "\n",
    "\n",
    "def callback(x):\n",
    "    label.configure(text='Button {} clicked'.format(alphabet[x]))\n",
    "\n",
    "\n",
    "root = Tk()\n",
    "label = Label()\n",
    "label.grid(row=1, column=0, columnspan=26)\n",
    "buttons = [0] * 26  # create a list to hold 26 buttons for i in range(26):\n",
    "for i in range(26):\n",
    "    buttons[i] = Button(text=alphabet[i], command=lambda x=i: callback(x))\n",
    "    buttons[i].grid(row=0, column=i)\n",
    "root.mainloop()\n"
   ]
  },
  {
   "cell_type": "code",
   "execution_count": 3,
   "metadata": {
    "collapsed": true
   },
   "outputs": [],
   "source": [
    "from tkinter import *\n",
    "\n",
    "\n",
    "def calculate():\n",
    "    temp = int(entry.get())\n",
    "    temp = 9 / 5 * temp + 32\n",
    "    output_label.configure(text='Converted: {:.1f}'.format(temp))\n",
    "    entry.delete(0, END)\n",
    "\n",
    "\n",
    "root = Tk()\n",
    "message_label = Label(text='Enter a temperature',\n",
    "                      font=('Verdana', 16))\n",
    "output_label = Label(font=('Verdana', 16))\n",
    "entry = Entry(font=('Verdana', 16), width=4)\n",
    "calc_button = Button(text='Ok', font=('Verdana', 16), command=calculate)\n",
    "message_label.grid(row=0, column=0)\n",
    "entry.grid(row=0, column=1)\n",
    "calc_button.grid(row=0, column=2)\n",
    "output_label.grid(row=1, column=0, columnspan=3)\n",
    "root.mainloop()\n"
   ]
  },
  {
   "cell_type": "code",
   "execution_count": 4,
   "metadata": {
    "collapsed": true
   },
   "outputs": [],
   "source": [
    "from tkinter import *\n",
    "\n",
    "\n",
    "def callback():\n",
    "    global num_clicks\n",
    "    num_clicks = num_clicks + 1\n",
    "    label.configure(text='Clicked {} times.'.format(num_clicks))\n",
    "\n",
    "\n",
    "num_clicks = 0\n",
    "root = Tk()\n",
    "label = Label(text='Not clicked')\n",
    "button = Button(text='Click me', command=callback)\n",
    "label.grid(row=0, column=0)\n",
    "button.grid(row=1, column=0)\n",
    "root.mainloop()\n"
   ]
  },
  {
   "cell_type": "code",
   "execution_count": 5,
   "metadata": {
    "collapsed": true
   },
   "outputs": [],
   "source": [
    "from tkinter import *\n",
    "\n",
    "\n",
    "class App:\n",
    "\n",
    "    def __init__(self, master):\n",
    "        frame = Frame(master)\n",
    "        frame.pack()\n",
    "        self.button = Button(frame, text=\"QUIT\", fg=\"red\", command=frame.quit)\n",
    "        self.button.pack(side=LEFT)\n",
    "        self.hi_there = Button(frame, text=\"Hello\", command=self.say_hi)\n",
    "        self.hi_there.pack(side=LEFT)\n",
    "\n",
    "    def say_hi(self):\n",
    "        print(\"Hi there, everyone!\")\n",
    "\n",
    "\n",
    "root = Tk()\n",
    "app = App(root)\n",
    "root.mainloop()\n"
   ]
  },
  {
   "cell_type": "code",
   "execution_count": 6,
   "metadata": {
    "collapsed": true
   },
   "outputs": [],
   "source": [
    "from tkinter import *\n",
    "# init\n",
    "root = Tk()\n",
    "w = Label(root, text=\"Hello, world!\")\n",
    "w.pack()\n",
    "root.mainloop()\n"
   ]
  },
  {
   "cell_type": "code",
   "execution_count": 7,
   "metadata": {
    "collapsed": true
   },
   "outputs": [],
   "source": [
    "from tkinter import *\n",
    "\n",
    "\n",
    "def callback(r, c):\n",
    "    global player\n",
    "    if player == 'X':\n",
    "        b[r][c].configure(text='X')\n",
    "        player = 'O'\n",
    "    else:\n",
    "        b[r][c].configure(text='O')\n",
    "        player = 'X'\n",
    "\n",
    "\n",
    "root = Tk()\n",
    "b = [[0, 0, 0],\n",
    "     [0, 0, 0],\n",
    "     [0, 0, 0]\n",
    "     ]\n",
    "for i in range(3):\n",
    "    for j in range(3):\n",
    "        b[i][j] = Button(font=('Verdana', 56), width=3,\n",
    "                         bg='yellow', command=lambda r=i, c=j: callback(r, c))\n",
    "        b[i][j].grid(row=i, column=j)\n",
    "\n",
    "player = 'X'\n",
    "root.mainloop()\n"
   ]
  },
  {
   "cell_type": "code",
   "execution_count": 8,
   "metadata": {
    "collapsed": true
   },
   "outputs": [],
   "source": [
    "from tkinter import *\n",
    "\n",
    "\n",
    "def callback(r, c):\n",
    "    global player\n",
    "    if player == 'X' and states[r][c] == 0:\n",
    "        b[r][c].configure(text='X')\n",
    "        states[r][c] = 'X'\n",
    "        player = 'O'\n",
    "    if player == 'O' and states[r][c] == 0:\n",
    "        b[r][c].configure(text='O')\n",
    "        states[r][c] = 'O'\n",
    "        player = 'X'\n",
    "\n",
    "\n",
    "root = Tk()\n",
    "states = [[0, 0, 0],\n",
    "          [0, 0, 0],\n",
    "          [0, 0, 0]\n",
    "          ]\n",
    "\n",
    "b = [[0, 0, 0],\n",
    "     [0, 0, 0],\n",
    "     [0, 0, 0]\n",
    "     ]\n",
    "for i in range(3):\n",
    "    for j in range(3):\n",
    "        b[i][j] = Button(font=('Verdana', 56), width=2, height=3,\n",
    "                         command=lambda r=i, c=j: callback(r, c))\n",
    "        b[i][j].grid(row=i, column=j)\n",
    "\n",
    "player = 'X'\n",
    "root.mainloop()\n"
   ]
  },
  {
   "cell_type": "code",
   "execution_count": null,
   "metadata": {
    "collapsed": true
   },
   "outputs": [],
   "source": []
  }
 ],
 "metadata": {
  "kernelspec": {
   "display_name": "Python 3",
   "language": "python",
   "name": "python3"
  },
  "language_info": {
   "codemirror_mode": {
    "name": "ipython",
    "version": 3
   },
   "file_extension": ".py",
   "mimetype": "text/x-python",
   "name": "python",
   "nbconvert_exporter": "python",
   "pygments_lexer": "ipython3",
   "version": "3.6.1"
  }
 },
 "nbformat": 4,
 "nbformat_minor": 2
}
