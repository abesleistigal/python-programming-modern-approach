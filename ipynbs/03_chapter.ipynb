{
 "cells": [
  {
   "cell_type": "code",
   "execution_count": 1,
   "metadata": {
    "collapsed": true
   },
   "outputs": [],
   "source": [
    "temperature = 32\n",
    "if temperature <= 30:\n",
    "    print(\"It's very cold. Consider wearing a scarf.\")"
   ]
  },
  {
   "cell_type": "code",
   "execution_count": 2,
   "metadata": {},
   "outputs": [
    {
     "name": "stdout",
     "output_type": "stream",
     "text": [
      "It's not that cold. Wear a t-shirt\n"
     ]
    }
   ],
   "source": [
    "temperature = 40\n",
    "if temperature <= 30:\n",
    "    print(\"It's very cold. Consider wearing a scarf.\")\n",
    "else:\n",
    "    print(\"It's not that cold. Wear a t-shirt\")"
   ]
  },
  {
   "cell_type": "code",
   "execution_count": null,
   "metadata": {
    "collapsed": true
   },
   "outputs": [],
   "source": [
    "temperature = 43\n",
    "if temperature <= 30:\n",
    "    print(\"It's very cold. Consider wearing a scarf.\") \n",
    "elif temperature >=40:\n",
    "    print(\"It's really warm. Don't forget to wear a sunscreen\")\n",
    "else:\n",
    "    print(\"It's not that cold. Wear a t-shirt\")"
   ]
  },
  {
   "cell_type": "code",
   "execution_count": null,
   "metadata": {
    "collapsed": true
   },
   "outputs": [],
   "source": [
    "speed = int(input(\"Enter the speed of wind in knots\\n\"))\n",
    "\n",
    "if speed < 1:\n",
    "    print(\"Calm\")\n",
    "elif 1 <= speed <= 3:\n",
    "    print(\"Light air\")\n",
    "elif 4 <= speed <= 27:\n",
    "    print(\"Breeze\")\n",
    "elif 28 <= speed <= 47:\n",
    "    print(\"Gales\")\n",
    "elif 48 <= speed <= 63:\n",
    "    print(\"Storm\")\n",
    "else:\n",
    "    print(\"Hurricane\")\n"
   ]
  },
  {
   "cell_type": "code",
   "execution_count": null,
   "metadata": {
    "collapsed": true
   },
   "outputs": [],
   "source": [
    "for index in [1,2,3,4,5]:\n",
    "       print(\"{} times 5 is {}\".format (index, index*5))"
   ]
  },
  {
   "cell_type": "code",
   "execution_count": null,
   "metadata": {
    "collapsed": true
   },
   "outputs": [],
   "source": [
    "players = ('Tony Stark', 'Ethan Hunt', 'James Bond', 'Peter Parker', 'Bruce Wayne')\n",
    "for player in players:\n",
    "       print(\"Welcome\", player)\n"
   ]
  },
  {
   "cell_type": "code",
   "execution_count": null,
   "metadata": {
    "collapsed": true
   },
   "outputs": [],
   "source": [
    "weight = float(input(\"Enter your weight in Kg\"))\n",
    "height = float(input(\"Enter your height in Cms\"))\n",
    "\n",
    "bmi = (weight / (height**2)) * 10000\n",
    "print(\"Computing...\")\n",
    "print(\"Your bmi is {}\\n\".format(bmi))\n",
    "if bmi < 18.5:\n",
    "    print(\"Underweight\")\n",
    "elif 18.5 <= bmi <= 24.99:\n",
    "    print(\"Perfect ! Normal weight\")\n",
    "elif 25.00 <= bmi <= 30.00:\n",
    "    print(\"Overweight\")\n",
    "elif bmi > 30.00:\n",
    "    print(\"Obese\")\n"
   ]
  },
  {
   "cell_type": "code",
   "execution_count": null,
   "metadata": {
    "collapsed": true
   },
   "outputs": [],
   "source": [
    "number_of_legs = { 'birds': 2,\n",
    "       'cats': 4,\n",
    "       'ant': 6,\n",
    "       'spider': 8,\n",
    "}\n",
    "for animal, legs in number_of_legs.items():\n",
    "    print(\"{} have {} legs\".format (animal, legs))\n"
   ]
  },
  {
   "cell_type": "code",
   "execution_count": null,
   "metadata": {
    "collapsed": true
   },
   "outputs": [],
   "source": [
    "import time\n",
    "f = 10\n",
    "t = 0\n",
    "while t < f:\n",
    "    print(f)\n",
    "    time.sleep(1)\n",
    "    f -= 1\n",
    "print(\"Go!\")\n"
   ]
  },
  {
   "cell_type": "code",
   "execution_count": null,
   "metadata": {
    "collapsed": true
   },
   "outputs": [],
   "source": [
    "print(\"Enter any num:\\n\")\n",
    "num = int(input())\n",
    "fact = 1\n",
    "for i in range(1,num):\n",
    "    fact = fact*i\n",
    "print(\"Factorial of\",num,\"is:\",fact)"
   ]
  },
  {
   "cell_type": "code",
   "execution_count": null,
   "metadata": {
    "collapsed": true
   },
   "outputs": [],
   "source": [
    "lower = int(input(\"Enter lower range: \"))\n",
    "upper = int(input(\"Enter upper range: \")) print(\"Prime numbers between {} and {} are:\".format(lower,upper))\n",
    "for num in range(lower, upper + 1): \n",
    "    if num > 1:\n",
    "        for i in range(2,num): \n",
    "            if (num % i) == 0:\n",
    "                break \n",
    "        else:\n",
    "            print(num)"
   ]
  },
  {
   "cell_type": "code",
   "execution_count": null,
   "metadata": {
    "collapsed": true
   },
   "outputs": [],
   "source": [
    "import time f = 10\n",
    "t=0\n",
    "while t < f:\n",
    "    print(f) \n",
    "    time.sleep(1) \n",
    "    f -= 1\n",
    "print(\"Go!\")"
   ]
  },
  {
   "cell_type": "code",
   "execution_count": 1,
   "metadata": {},
   "outputs": [
    {
     "name": "stdout",
     "output_type": "stream",
     "text": [
      "6\n",
      "7\n",
      "1\n"
     ]
    }
   ],
   "source": [
    "a = int(input())\n",
    "b = int(input())\n",
    "while b:\n",
    "    a, b = b, a % b\n",
    "print(a)\n"
   ]
  },
  {
   "cell_type": "code",
   "execution_count": null,
   "metadata": {
    "collapsed": true
   },
   "outputs": [],
   "source": [
    "\"\"\"\n",
    "def f(n):\n",
    "    a, b = 0, 1\n",
    "    for i in range(0, n):\n",
    "        a, b = b, a + b\n",
    "    return a\n",
    "\n",
    "def F(n):\n",
    "    if n == 0: return 0\n",
    "    elif n == 1: return 1\n",
    "    else: return F(n-1)+F(n-2)\n",
    "\"\"\"\n",
    "a, b = 1, 1\n",
    "total = 0\n",
    "while a <= 4000000:\n",
    "    if a % 2 == 0:\n",
    "        total += a\n",
    "    a, b = b, a + b  # the real formula for Fibonacci sequence\n",
    "print(total)\n"
   ]
  },
  {
   "cell_type": "code",
   "execution_count": null,
   "metadata": {
    "collapsed": true
   },
   "outputs": [],
   "source": [
    "lower = 0\n",
    "upper = 300\n",
    "step = 20\n",
    "fahr = lower\n",
    "while fahr < upper:\n",
    "    celsius = 5 * (fahr - 32) / 9\n",
    "    print(\"{}F\\t{}C\".format(fahr, celsius))\n",
    "    fahr = fahr + step\n"
   ]
  },
  {
   "cell_type": "code",
   "execution_count": null,
   "metadata": {
    "collapsed": true
   },
   "outputs": [],
   "source": [
    "a = int(input(\"Enter a number\"))\n",
    "i = fact = 1\n",
    "while i<=a:\n",
    "fact = fact*i\n",
    "     i += i\n",
    "print(fact)\n"
   ]
  },
  {
   "cell_type": "code",
   "execution_count": null,
   "metadata": {
    "collapsed": true
   },
   "outputs": [],
   "source": [
    "step = 20\n",
    "fahr = lower\n",
    "while fahr < upper:\n",
    "   celsius = 5 * (fahr - 32) / 9\n",
    "print(\"{}F \\t {}C\".format(fahr, celsius)) \n",
    "fahr = fahr + step    \n"
   ]
  },
  {
   "cell_type": "code",
   "execution_count": null,
   "metadata": {
    "collapsed": true
   },
   "outputs": [],
   "source": [
    "def print_multiples(n):\n",
    "    i = 1\n",
    "    while i <= 6:\n",
    "        print(n * i, '\\t')\n",
    "        i += 1\n",
    "\n",
    "\n",
    "def print_m_table():\n",
    "    i = 1\n",
    "    while i <= 6:\n",
    "        print_multiples(i)\n",
    "        i += 1\n",
    "\n",
    "\n",
    "print_m_table()\n"
   ]
  },
  {
   "cell_type": "code",
   "execution_count": null,
   "metadata": {
    "collapsed": true
   },
   "outputs": [],
   "source": [
    "lower = int(input(\"Enter lower range: \"))\n",
    "upper = int(input(\"Enter upper range: \"))\n",
    "\n",
    "print(\"Prime numbers between {} and {} are:\".format(lower, upper))\n",
    "\n",
    "for num in range(lower, upper + 1):\n",
    "    if num > 1:\n",
    "        for i in range(2, num):\n",
    "            if (num % i) == 0:\n",
    "                break\n",
    "        else:\n",
    "            print(num)\n"
   ]
  },
  {
   "cell_type": "code",
   "execution_count": null,
   "metadata": {
    "collapsed": true
   },
   "outputs": [],
   "source": [
    "revenue = []\n",
    "while True:\n",
    "    amount = input(\"Enter Income\")\n",
    "    if amount == 'q':\n",
    "        break\n",
    "    else:\n",
    "        revenue.append(int(amount))\n",
    "print(revenue)\n",
    "if sum(revenue) <= 250000:\n",
    "    print(\"No Taxation\")\n",
    "elif 25000 < sum(revenue) < 50000:\n",
    "    print(\"10%\")\n",
    "elif 50000 < sum(revenue) < 10000:\n",
    "    print(\"20%\")\n",
    "else:\n",
    "    print(\"30%\")\n"
   ]
  },
  {
   "cell_type": "code",
   "execution_count": null,
   "metadata": {
    "collapsed": true
   },
   "outputs": [],
   "source": [
    "# Take the inputs\n",
    "file_name = input(\"Enter the file name: \")\n",
    "input_file = open(file_name, 'r')\n",
    "text = input_file.read()\n",
    "\n",
    "# Count the sentences\n",
    "sentences = text.count('.') + text.count('?') + \\\n",
    "    text.count(':') + text.count(';') + \\\n",
    "    text.count('!')\n",
    "\n",
    "# Count the words\n",
    "words = len(text.split())\n",
    "\n",
    "# Count the syllables\n",
    "syllables = 0\n",
    "for word in text.split():\n",
    "    for vowel in ['a', 'e', 'i', 'o', 'u']:\n",
    "        syllables += word.count(vowel)\n",
    "\n",
    "for ending in ['es', 'ed', 'e']:\n",
    "    if word.endswith(ending):\n",
    "        syllables -= 1\n",
    "\n",
    "if word.endswith('le'):\n",
    "    syllables += 1\n",
    "\n",
    "# Compute the Flesch Index and Grade Level\n",
    "index = 206.835 - 1.015 * (words / float(sentences)) - \\\n",
    "    84.6 * (syllables / words)\n",
    "level = int(round(0.39 * (words / float(sentences)) + 11.8 *\n",
    "                  (syllables / float(words)) - 15.59))\n",
    "\n",
    "# Output the results\n",
    "print(\"The Flesch Index is\", index)\n",
    "print(\"The Grade Level Equivalent is\", level)\n",
    "print(sentences, \"sentences\")\n",
    "print(words, \"words\")\n",
    "print(syllables, \"syllables\")\n"
   ]
  },
  {
   "cell_type": "code",
   "execution_count": 2,
   "metadata": {},
   "outputs": [
    {
     "name": "stdout",
     "output_type": "stream",
     "text": [
      "grt mnds thnk lk\n"
     ]
    }
   ],
   "source": [
    "puzzle_input = \"great minds think alike\" \n",
    "puzzle_output = \"\"\n",
    "vowels = ['a', 'e', 'i', 'o', 'u']\n",
    "for character in puzzle_input:\n",
    "       if character in vowels:\n",
    "           continue\n",
    "       else:\n",
    "           puzzle_output+=character\n",
    "print(puzzle_output)"
   ]
  },
  {
   "cell_type": "code",
   "execution_count": 6,
   "metadata": {},
   "outputs": [
    {
     "name": "stdout",
     "output_type": "stream",
     "text": [
      "Enter password:\n",
      " huhuh\n",
      "Too small password\n",
      "Enter password:\n",
      " jkj\n",
      "Too small password\n",
      "Enter password:\n",
      " jkjkkjkuj\n",
      "Password set successfully\n"
     ]
    }
   ],
   "source": [
    "while True:\n",
    "    password = input(\"Enter password:\\n \")\n",
    "    if len(password) < 6:\n",
    "        print(\"Too small password\")\n",
    "        continue\n",
    "    else:\n",
    "        break\n",
    "print(\"Password set successfully\")"
   ]
  },
  {
   "cell_type": "code",
   "execution_count": 7,
   "metadata": {},
   "outputs": [
    {
     "name": "stdout",
     "output_type": "stream",
     "text": [
      "Enter your message : Hello \n",
      "Hello \n",
      "Message delivered\n",
      "Enter your message : \n",
      "\n",
      "Message delivered\n",
      "Enter your message : Hi\n",
      "Hi\n",
      "Message delivered\n",
      "Enter your message : q().\n",
      "ok\n",
      "['Hello ', '', 'Hi']\n"
     ]
    }
   ],
   "source": [
    "messages = [] \n",
    "while True:\n",
    "    message = input('Enter your message : ') \n",
    "    if message == 'q().':\n",
    "        break\n",
    "    print(message)\n",
    "    messages.append(message)\n",
    "    print(\"Message delivered\")\n",
    "print('ok')\n",
    "print(messages)"
   ]
  },
  {
   "cell_type": "code",
   "execution_count": 9,
   "metadata": {},
   "outputs": [
    {
     "name": "stdout",
     "output_type": "stream",
     "text": [
      "Skipping work 1\n",
      "Skipping work 2\n",
      "3\n",
      "4\n",
      "Enough of work\n",
      "Done\n"
     ]
    }
   ],
   "source": [
    "x=1\n",
    "while x < 10: \n",
    "    if x < 3:\n",
    "        print('Skipping work {}'.format(x)) \n",
    "        x=x + 1\n",
    "        continue\n",
    "    print(x)\n",
    "    if x == 4:\n",
    "        print('Enough of work')\n",
    "        break\n",
    "    x = x + 1 \n",
    "print('Done')"
   ]
  },
  {
   "cell_type": "code",
   "execution_count": 10,
   "metadata": {},
   "outputs": [
    {
     "name": "stdout",
     "output_type": "stream",
     "text": [
      "[2, 4, 6, 8, 10]\n",
      "[4, 8, 12, 16, 20]\n"
     ]
    }
   ],
   "source": [
    "a = [2, 4, 6, 8, 10]\n",
    "print([x for x in a])\n",
    "print([x+x for x in a])"
   ]
  },
  {
   "cell_type": "code",
   "execution_count": null,
   "metadata": {
    "collapsed": true
   },
   "outputs": [],
   "source": [
    "if x<5: \n",
    "    pass\n",
    "while True:\n",
    "    pass\n",
    "def f(arg):\n",
    "    pass"
   ]
  },
  {
   "cell_type": "code",
   "execution_count": null,
   "metadata": {
    "collapsed": true
   },
   "outputs": [],
   "source": []
  }
 ],
 "metadata": {
  "kernelspec": {
   "display_name": "Python 3",
   "language": "python",
   "name": "python3"
  },
  "language_info": {
   "codemirror_mode": {
    "name": "ipython",
    "version": 3
   },
   "file_extension": ".py",
   "mimetype": "text/x-python",
   "name": "python",
   "nbconvert_exporter": "python",
   "pygments_lexer": "ipython3",
   "version": "3.6.1"
  }
 },
 "nbformat": 4,
 "nbformat_minor": 2
}
