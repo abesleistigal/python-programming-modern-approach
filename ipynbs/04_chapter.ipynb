{
 "cells": [
  {
   "cell_type": "code",
   "execution_count": 1,
   "metadata": {},
   "outputs": [
    {
     "name": "stdout",
     "output_type": "stream",
     "text": [
      "Hello\n"
     ]
    }
   ],
   "source": [
    "# Function to say hello on call the function\n",
    "def greet():\n",
    "    print(\"Hello\")\n",
    "\n",
    "# function call below.\n",
    "greet()"
   ]
  },
  {
   "cell_type": "code",
   "execution_count": 2,
   "metadata": {},
   "outputs": [
    {
     "name": "stdout",
     "output_type": "stream",
     "text": [
      "Hello Mr.Ethan\n",
      "Hello Ms.Emma\n",
      "Hello Machine\n"
     ]
    }
   ],
   "source": [
    "def greet(name, gender):\n",
    "       if gender is 'f':\n",
    "           print(\"Hello Ms.{}\".format(name))\n",
    "       elif gender is 'm':\n",
    "           print(\"Hello Mr.{}\".format(name))\n",
    "       else:\n",
    "           print(\"Hello {}\".format(name))\n",
    "greet(\"Ethan\", \"m\")\n",
    "greet(\"Emma\", \"f\")\n",
    "greet(\"Machine\", \"\")\n"
   ]
  },
  {
   "cell_type": "code",
   "execution_count": 3,
   "metadata": {},
   "outputs": [
    {
     "name": "stdout",
     "output_type": "stream",
     "text": [
      "Enter Income700\n",
      "[700]\n",
      "Enter Income9000\n",
      "[700, 9000]\n",
      "Enter Income990\n",
      "[700, 9000, 990]\n",
      "Enter Incomeq\n",
      "No Taxation\n"
     ]
    }
   ],
   "source": [
    "def tax_calculator():\n",
    "    revenue = []\n",
    "    while True:\n",
    "        amount = input(\"Enter Income\")\n",
    "        if amount == 'q':\n",
    "            break \n",
    "        else:\n",
    "            revenue.append(int(amount))\n",
    "            print(revenue)\n",
    "    if sum(revenue) <= 250000:\n",
    "           print(\"No Taxation\")\n",
    "    elif 25000 < sum(revenue) < 50000:\n",
    "        print(\"10%\")\n",
    "    elif 50000 < sum(revenue) < 10000:\n",
    "        print(\"20%\")\n",
    "    else:\n",
    "        print(\"30%\")\n",
    "tax_calculator()"
   ]
  },
  {
   "cell_type": "code",
   "execution_count": 4,
   "metadata": {},
   "outputs": [
    {
     "name": "stdout",
     "output_type": "stream",
     "text": [
      "starter : soup\n",
      "entree : potato\n",
      "dessert : cake\n"
     ]
    }
   ],
   "source": [
    "def menu(starter, entree, dessert):\n",
    "    order  = {'starter': starter, 'entree': entree,'dessert': dessert}\n",
    "    print(\"starter :\", order['starter'])\n",
    "    print(\"entree :\", order['entree'])\n",
    "    print(\"dessert :\", order['dessert'])\n",
    "menu('soup', 'potato', 'cake')"
   ]
  },
  {
   "cell_type": "code",
   "execution_count": 5,
   "metadata": {},
   "outputs": [
    {
     "name": "stdout",
     "output_type": "stream",
     "text": [
      "starter : potato\n",
      "entree : cake\n",
      "dessert : soup\n"
     ]
    }
   ],
   "source": [
    "def menu(starter, entree, dessert):\n",
    "    order  = {'starter': starter, 'entree': entree,'dessert': dessert}\n",
    "    print(\"starter :\", order['starter'])\n",
    "    print(\"entree :\", order['entree'])\n",
    "    print(\"dessert :\", order['dessert'])\n",
    "menu('potato', 'cake', 'soup')"
   ]
  },
  {
   "cell_type": "code",
   "execution_count": 6,
   "metadata": {},
   "outputs": [
    {
     "name": "stdout",
     "output_type": "stream",
     "text": [
      "starter : sweet\n",
      "entree : cauliflower\n",
      "dessert : icecream\n"
     ]
    }
   ],
   "source": [
    "def menu(starter, entree, dessert):\n",
    "    order  = {'starter': starter, 'entree': entree, 'dessert': dessert}\n",
    "    print(\"starter :\", order['starter'])\n",
    "    print(\"entree :\", order['entree'])\n",
    "    print(\"dessert :\", order['dessert'])\n",
    "menu(entree='cauliflower', dessert='icecream', starter='sweet')"
   ]
  },
  {
   "cell_type": "code",
   "execution_count": 7,
   "metadata": {
    "collapsed": true
   },
   "outputs": [],
   "source": [
    "def make_omelette(stir=True, flame=0, *ingredients):\n",
    "    '''\n",
    "    Function that makes omelette with required flaming.\n",
    "    Please use it casrefully otherwise ommelete might burn\n",
    "    '''\n",
    "    for ingredient in ingredients:\n",
    "        print(\"Taking {}\".format(ingredient))\n",
    "\n",
    "    if stir is True:\n",
    "        print(\"Stirring...{} with egg\".format(ingredients))\n",
    "\n",
    "    if stir is False:\n",
    "        print(\"Taking egg\")\n",
    "\n",
    "    print(\"Pouring it on to the pan\")\n",
    "    print(\"Flaming at level {}\".format(flame))\n",
    "    print(\"Your omelette ready !\")\n",
    "    return ingredients\n",
    "\n",
    "# make_omelette(False, 4, \"salt\", \"pepper\")\n"
   ]
  },
  {
   "cell_type": "code",
   "execution_count": 8,
   "metadata": {},
   "outputs": [
    {
     "name": "stdout",
     "output_type": "stream",
     "text": [
      "{'starter': 'soup', 'entree': 'egg', 'dessert': 'pudding'}\n",
      "{'starter': 'fries', 'entree': 'brinjal', 'dessert': 'doughnut'}\n"
     ]
    }
   ],
   "source": [
    "def menu(starter, entree, dessert='pudding'):\n",
    "    order = {'starter': starter, 'entree': entree, 'dessert': dessert}\n",
    "    print(order)\n",
    "menu('soup', 'egg')\n",
    "menu('fries', 'brinjal', 'doughnut')\n"
   ]
  },
  {
   "cell_type": "code",
   "execution_count": 9,
   "metadata": {
    "scrolled": true
   },
   "outputs": [
    {
     "name": "stdout",
     "output_type": "stream",
     "text": [
      "This is how  ...\n",
      "If you want  ...\n",
      "Your package with Wh ...\n",
      "Your package with Why Na ...\n"
     ]
    }
   ],
   "source": [
    "def display_message(message, truncate=12):\n",
    "    print(message[:truncate], \"...\")\n",
    "display_message(\"This is how climate change looks like\") \n",
    "display_message(\"If you want to be happy, set a goal that commands your thoughts,\")\n",
    "display_message(\"Your package with Why Nations Failed will be delivered today\", 20)\n",
    "display_message(\"Your package with Why Nations Failed was successfully delivered\", 24)\n"
   ]
  },
  {
   "cell_type": "code",
   "execution_count": 10,
   "metadata": {},
   "outputs": [
    {
     "name": "stdout",
     "output_type": "stream",
     "text": [
      "The amount of time you are in bed and asleep is -1 day, 8:00:00\n"
     ]
    }
   ],
   "source": [
    "from datetime import datetime\n",
    "\n",
    "def alarm_bedtime(bedtime=\"22:00:00\", wake=\"06:00:00\"):\n",
    "    fmt = \"%H:%M:%S\"\n",
    "    diff = datetime.strptime(wake, fmt) - datetime.strptime(bedtime, fmt)\n",
    "    print(\"The amount of time you are in bed and asleep is {}\".format(diff))\n",
    "\n",
    "\n",
    "alarm_bedtime()\n"
   ]
  },
  {
   "cell_type": "code",
   "execution_count": 11,
   "metadata": {},
   "outputs": [
    {
     "name": "stdout",
     "output_type": "stream",
     "text": [
      "I am AR-101\n",
      "I dance\n",
      "I read\n",
      "I sing\n",
      "I am AR-131\n",
      "I dance\n",
      "I read\n",
      "I sing\n",
      "I fight\n"
     ]
    }
   ],
   "source": [
    "def robot(name, *hobbies):\n",
    "      print(\"I am {}\".format(name))\n",
    "      for hobby in hobbies:\n",
    "          print(\"I {}\".format(hobby))\n",
    "robot(\"AR-101\", \"dance\", \"read\", \"sing\")\n",
    "robot(\"AR-131\", \"dance\", \"read\", \"sing\", \"fight\")"
   ]
  },
  {
   "cell_type": "code",
   "execution_count": 12,
   "metadata": {},
   "outputs": [
    {
     "name": "stdout",
     "output_type": "stream",
     "text": [
      "Hello I am DROI-67\n",
      "I ('sing', 'dance', 'clean', 'cook', 'write', 'read', {'speed': '1 Tera Hz', 'memory': '1Peta Byte'})\n"
     ]
    }
   ],
   "source": [
    "def robot(name, *hobbies, **details):\n",
    "    print(\"Hello I am {}\".format(name))\n",
    "    print(\"I {}\".format(hobbies))\n",
    "    for key, value in details.items():\n",
    "        print(\"{}:{}\".format(key, value))\n",
    "robot('DROI-67', 'sing', 'dance', 'clean', 'cook','write', 'read',{'speed': '1 Tera Hz', 'memory':'1Peta Byte'})"
   ]
  },
  {
   "cell_type": "code",
   "execution_count": 13,
   "metadata": {},
   "outputs": [
    {
     "name": "stdout",
     "output_type": "stream",
     "text": [
      "Taking salt\n",
      "Taking pepper\n",
      "Taking egg\n",
      "Pouring it on to the pan\n",
      "Flaming at level 4\n",
      "Your omelette ready !\n"
     ]
    }
   ],
   "source": [
    "def make_omelette(stir=True, flame=0, *ingredients):\n",
    "    for ingredient in ingredients:\n",
    "         print(\"Taking {}\".format(ingredient))\n",
    "    if stir is True:\n",
    "        print(\"Stirring...{} with egg\".format (ingredients))\n",
    "    if stir is False:\n",
    "        print(\"Taking egg\")\n",
    "        print(\"Pouring it on to the pan\")\n",
    "        print(\"Flaming at level {}\".format(flame))\n",
    "        print(\"Your omelette ready !\")\n",
    "make_omelette(False, 4, \"salt\", \"pepper\")\n"
   ]
  },
  {
   "cell_type": "code",
   "execution_count": 14,
   "metadata": {},
   "outputs": [
    {
     "name": "stdout",
     "output_type": "stream",
     "text": [
      "24884.55540908475\n",
      "201.06192982974676\n"
     ]
    }
   ],
   "source": [
    "import math\n",
    "def circumference(radius):\n",
    "    temp = math.pi * radius**2\n",
    "    return temp\n",
    "print(circumference(89))\n",
    "print(circumference(8))"
   ]
  },
  {
   "cell_type": "code",
   "execution_count": 15,
   "metadata": {},
   "outputs": [
    {
     "data": {
      "text/plain": [
       "True"
      ]
     },
     "execution_count": 15,
     "metadata": {},
     "output_type": "execute_result"
    }
   ],
   "source": [
    "def is_divisible(x, y):\n",
    "    if x % y == 0:\n",
    "        return True\n",
    "    else:\n",
    "        return False\n",
    "is_divisible(4,5)\n",
    "is_divisible(25,5)\n",
    "is_divisible(9,81)\n",
    "is_divisible(7,48)\n",
    "is_divisible(8,2)"
   ]
  },
  {
   "cell_type": "code",
   "execution_count": 16,
   "metadata": {},
   "outputs": [
    {
     "name": "stdout",
     "output_type": "stream",
     "text": [
      "6\n",
      "7\n",
      "52\n"
     ]
    }
   ],
   "source": [
    "def absolute_value(x):\n",
    "    if x < 0:\n",
    "        return -x\n",
    "    elif x > 0:\n",
    "        return x\n",
    "print(absolute_value(6))\n",
    "print(absolute_value(-7))\n",
    "print(absolute_value(-52))\n"
   ]
  },
  {
   "cell_type": "code",
   "execution_count": 17,
   "metadata": {},
   "outputs": [
    {
     "name": "stdout",
     "output_type": "stream",
     "text": [
      "Let's do some math with just functions!\n",
      "ADDING 30 + 5\n",
      "SUBTRACTING 78 - 4\n",
      "MULTIPLYING 90 * 2\n",
      "DIVIDING 100 / 2\n",
      "Age: 35, Height: 74, Weight: 180, IQ: 50.0\n"
     ]
    }
   ],
   "source": [
    "def add(a, b):\n",
    "    print(\"ADDING %d + %d\" % (a, b))\n",
    "    return a + b\n",
    "def subtract(a, b):\n",
    "    print(\"SUBTRACTING %d - %d\" % (a, b))\n",
    "    return a - b\n",
    "def multiply(a, b):\n",
    "    print(\"MULTIPLYING %d * %d\" % (a, b))\n",
    "    return a * b\n",
    "def divide(a, b):\n",
    "    print(\"DIVIDING %d / %d\" % (a, b))\n",
    "    return a / b\n",
    "\n",
    "print(\"Let's do some math with just functions!\")\n",
    "age = add(30, 5)\n",
    "height = subtract(78, 4)\n",
    "weight = multiply(90, 2)\n",
    "iq = divide(100, 2)\n",
    "print(\"Age: {}, Height: {}, Weight: {}, IQ: {}\".format(age, height, weight, iq))\n",
    "           "
   ]
  },
  {
   "cell_type": "code",
   "execution_count": 18,
   "metadata": {},
   "outputs": [
    {
     "name": "stdout",
     "output_type": "stream",
     "text": [
      "5909\n",
      "Jack, Your Verification Code is 5909\n",
      "9335\n",
      "Jack, Your Verification Code is 9335\n",
      "2493\n",
      "Jack, Your Verification Code is 2493\n",
      "9069\n",
      "Jack, Your Verification Code is 9069\n"
     ]
    }
   ],
   "source": [
    "import random\n",
    "\n",
    "def generate_code(limit=5):\n",
    "    start = 10**(limit-1)\n",
    "    end = (10**limit)-1\n",
    "    return random.randint(start, end)\n",
    "\n",
    "def create_message(name, vc):\n",
    "    return \"{}, Your Verification Code is {}\".format(name,vc)\n",
    "\n",
    "\n",
    "def send_message(to_number, name, from_number=\"+12234\"):\n",
    "    code = generate_code(limit=4)\n",
    "    print(code)\n",
    "    message = create_message(name, code)\n",
    "    print(message)\n",
    "send_message(to_number=\"+919999999999\", name=\"Jack\")\n",
    "send_message(to_number=\"+919999999999\", name=\"Jack\")\n",
    "send_message(to_number=\"+919999999999\", name=\"Jack\")\n",
    "send_message(to_number=\"+919999999999\", name=\"Jack\")\n"
   ]
  },
  {
   "cell_type": "code",
   "execution_count": 19,
   "metadata": {},
   "outputs": [
    {
     "name": "stdout",
     "output_type": "stream",
     "text": [
      "8\n",
      "9\n",
      "8\n",
      "9\n",
      "8.0\n",
      "9.0\n"
     ]
    }
   ],
   "source": [
    "numerator = int(input())\n",
    "denominator = int(input())\n",
    "def gcd(a, b):\n",
    "    \"\"\"\n",
    "    Returns the greatest common divisor of a and b.\n",
    "    Should be implemented using recursion.\n",
    "    >>> gcd(34, 19)\n",
    "    1\n",
    "    >>> gcd(39, 91)\n",
    "    13\n",
    "    >>> gcd(20, 30)\n",
    "    10\n",
    "    >>> gcd(40, 40)\n",
    "    40\n",
    "    \"\"\"\n",
    "    if b > a:\n",
    "        return gcd(b, a)\n",
    "    if a % b == 0:\n",
    "        return b\n",
    "    return gcd(b, a % b)\n",
    "\n",
    "n_numerator = numerator / gcd(numerator, denominator)\n",
    "n_denominator = denominator / gcd(numerator,denominator)\n",
    "print(numerator)\n",
    "print(denominator)\n",
    "print(n_numerator)\n",
    "print(n_denominator)"
   ]
  },
  {
   "cell_type": "code",
   "execution_count": 20,
   "metadata": {},
   "outputs": [
    {
     "name": "stdout",
     "output_type": "stream",
     "text": [
      "10\n",
      "9\n",
      "8\n",
      "7\n",
      "6\n",
      "5\n",
      "4\n",
      "3\n",
      "2\n",
      "1\n",
      "Blastoff!\n"
     ]
    }
   ],
   "source": [
    " def countdown(n=20):\n",
    "    if n == 0:\n",
    "        print(\"Blastoff!\")\n",
    "    else:\n",
    "        print(n)    \n",
    "        countdown(n - 1)\n",
    "countdown(10)"
   ]
  },
  {
   "cell_type": "code",
   "execution_count": 21,
   "metadata": {},
   "outputs": [
    {
     "name": "stdout",
     "output_type": "stream",
     "text": [
      "13\n"
     ]
    }
   ],
   "source": [
    "def fibonacci(n):\n",
    "    if n == 0:\n",
    "        return 0\n",
    "    elif n == 1:\n",
    "        return 1\n",
    "    else:\n",
    "        return fibonacci(n-1) + fibonacci(n-2)\n",
    "print(fibonacci(7))"
   ]
  },
  {
   "cell_type": "code",
   "execution_count": 22,
   "metadata": {},
   "outputs": [
    {
     "name": "stdout",
     "output_type": "stream",
     "text": [
      "Moving disk from A B B\n",
      "Moving disk from A C C\n",
      "Moving disk from B C C\n",
      "Moving disk from A B B\n",
      "Moving disk from C A A\n",
      "Moving disk from C B B\n",
      "Moving disk from A B B\n"
     ]
    }
   ],
   "source": [
    "def move_tower(height, from_pole, to_pole, with_pole):\n",
    "    if height >= 1:\n",
    "        move_tower(height-1, from_pole, with_pole, to_pole)\n",
    "        move_disk(from_pole, to_pole)\n",
    "        move_tower(height-1, with_pole,to_pole,from_pole)\n",
    "\n",
    "def move_disk(from_pole,to_pole):\n",
    "    print(\"Moving disk from\",from_pole, to_pole, to_pole)\n",
    "move_tower(3,\"A\",\"B\",\"C\")"
   ]
  },
  {
   "cell_type": "code",
   "execution_count": 23,
   "metadata": {},
   "outputs": [
    {
     "name": "stdout",
     "output_type": "stream",
     "text": [
      "x is 50\n",
      "Changed local x to 2\n",
      "x is still 50\n"
     ]
    }
   ],
   "source": [
    "x = 50\n",
    "def func(x):\n",
    "    print(\"x is\", x)\n",
    "    x=2\n",
    "    print(\"Changed local x to\", x)\n",
    "func(x)\n",
    "print(\"x is still\", x)"
   ]
  },
  {
   "cell_type": "code",
   "execution_count": 24,
   "metadata": {},
   "outputs": [
    {
     "name": "stdout",
     "output_type": "stream",
     "text": [
      "Changed global x to 2\n",
      "x is 2\n",
      "Value of x is 2\n"
     ]
    }
   ],
   "source": [
    "x = 50\n",
    "def func():\n",
    "    global x\n",
    "    print(\"x is\", x)\n",
    "x= 2\n",
    "print(\"Changed global x to\", x)\n",
    "func()\n",
    "print(\"Value of x is\", x)"
   ]
  },
  {
   "cell_type": "code",
   "execution_count": 25,
   "metadata": {
    "collapsed": true
   },
   "outputs": [],
   "source": [
    "def greet(someone):\n",
    "    \"\"\"\n",
    "    This function is used to greet someone.\n",
    "    \"\"\"\n",
    "    print(\"Hello {}\".format(name))"
   ]
  },
  {
   "cell_type": "code",
   "execution_count": 26,
   "metadata": {},
   "outputs": [
    {
     "name": "stdout",
     "output_type": "stream",
     "text": [
      "Help on function greet in module __main__:\n",
      "\n",
      "greet(someone)\n",
      "    This function is used to greet someone.\n",
      "\n"
     ]
    }
   ],
   "source": [
    "help(greet)"
   ]
  },
  {
   "cell_type": "code",
   "execution_count": 27,
   "metadata": {
    "collapsed": true
   },
   "outputs": [],
   "source": [
    "def greet(someone, gender):\n",
    "    '''\n",
    "    Greet a person with the gender specified\n",
    "    The operation is as follows:\n",
    "    1.Prints \"Hello Mr. *first* argument\" if gender is M.\n",
    "    2.Prints \"Hello Ms. *first* argument\" if gender is F.\n",
    "    3.Print \"Hello *first* argument\" if gender is any other argument\"\n",
    "    '''\n",
    "    if gender is 'f':\n",
    "        print(\"Hello Ms.{}\".format(name))\n",
    "    elif gender is 'm':\n",
    "        print(\"Hello Mr.{}\".format(name))\n",
    "    else:\n",
    "        print(\"Hello {}\".format(name))"
   ]
  },
  {
   "cell_type": "code",
   "execution_count": 28,
   "metadata": {},
   "outputs": [
    {
     "name": "stdout",
     "output_type": "stream",
     "text": [
      "Help on function greet in module __main__:\n",
      "\n",
      "greet(someone, gender)\n",
      "    Greet a person with the gender specified\n",
      "    The operation is as follows:\n",
      "    1.Prints \"Hello Mr. *first* argument\" if gender is M.\n",
      "    2.Prints \"Hello Ms. *first* argument\" if gender is F.\n",
      "    3.Print \"Hello *first* argument\" if gender is any other argument\"\n",
      "\n",
      "\n",
      "    Greet a person with the gender specified\n",
      "    The operation is as follows:\n",
      "    1.Prints \"Hello Mr. *first* argument\" if gender is M.\n",
      "    2.Prints \"Hello Ms. *first* argument\" if gender is F.\n",
      "    3.Print \"Hello *first* argument\" if gender is any other argument\"\n",
      "    \n"
     ]
    }
   ],
   "source": [
    "help(greet)\n",
    "print(greet.__doc__)"
   ]
  },
  {
   "cell_type": "code",
   "execution_count": 29,
   "metadata": {},
   "outputs": [
    {
     "name": "stdout",
     "output_type": "stream",
     "text": [
      "This function is named: amazing\n",
      "And its docstring is: \n",
      "    This is the amazing function.\n",
      "    Want to see it again? Call it again !\n",
      "    \n"
     ]
    }
   ],
   "source": [
    "def amazing():\n",
    "    '''\n",
    "    This is the amazing function.\n",
    "    Want to see it again? Call it again !\n",
    "    '''\n",
    "    print('This function is named:', amazing.__name__) \n",
    "    print('And its docstring is:', amazing.__doc__)\n",
    "amazing()"
   ]
  },
  {
   "cell_type": "code",
   "execution_count": 30,
   "metadata": {},
   "outputs": [
    {
     "name": "stdout",
     "output_type": "stream",
     "text": [
      "Hey!\n",
      "Hi!\n",
      "Hello!\n"
     ]
    }
   ],
   "source": [
    "def edit_lines(words, func):\n",
    "    for word in words:\n",
    "        print(func(word))\n",
    "def exclaim(word):\n",
    "    # give that line some exclaination\n",
    "    return word.capitalize() + '!'\n",
    "greets = ['Hey', 'Hi', 'Hello']\n",
    "edit_lines(greets, exclaim)"
   ]
  },
  {
   "cell_type": "code",
   "execution_count": 31,
   "metadata": {},
   "outputs": [
    {
     "name": "stdout",
     "output_type": "stream",
     "text": [
      "Hey!\n",
      "Hi!\n",
      "Hello!\n"
     ]
    }
   ],
   "source": [
    "def edit_lines(words, func):\n",
    "    for word in words:\n",
    "        print(func(word))\n",
    "edit_lines(greets, lambda word: word.capitalize() + '!')"
   ]
  },
  {
   "cell_type": "code",
   "execution_count": 32,
   "metadata": {},
   "outputs": [
    {
     "name": "stdout",
     "output_type": "stream",
     "text": [
      "Rob Pike\n",
      "Dennis Ritchie\n"
     ]
    }
   ],
   "source": [
    "def edit_lines(words, func):\n",
    "    for word in words:\n",
    "        print(func(word))\n",
    "names = [\"RoB pIKe\", \"DeNNis RiTchie\"]\n",
    "edit_lines(names, lambda word:word.title())\n"
   ]
  },
  {
   "cell_type": "code",
   "execution_count": null,
   "metadata": {
    "collapsed": true
   },
   "outputs": [],
   "source": []
  }
 ],
 "metadata": {
  "kernelspec": {
   "display_name": "Python 3",
   "language": "python",
   "name": "python3"
  },
  "language_info": {
   "codemirror_mode": {
    "name": "ipython",
    "version": 3
   },
   "file_extension": ".py",
   "mimetype": "text/x-python",
   "name": "python",
   "nbconvert_exporter": "python",
   "pygments_lexer": "ipython3",
   "version": "3.6.1"
  }
 },
 "nbformat": 4,
 "nbformat_minor": 2
}
