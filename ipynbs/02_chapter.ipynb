{
 "cells": [
  {
   "cell_type": "code",
   "execution_count": 13,
   "metadata": {
    "scrolled": false
   },
   "outputs": [
    {
     "name": "stdout",
     "output_type": "stream",
     "text": [
      "True\n",
      "True\n",
      "False\n",
      "False\n",
      "True\n"
     ]
    }
   ],
   "source": [
    "shopping_list = [\"Milk\", \"Bread\", \"Chocolate spread\", \"Eggs\"]\n",
    "check = \"Eggs\" in shopping_list\n",
    "print(check)\n",
    "check = \"Milk\" in shopping_list\n",
    "print(check)\n",
    "check = \"mango\" in shopping_list\n",
    "print(check)\n",
    "check = \"eggs\" in shopping_list\n",
    "print(check)\n",
    "check = \"Bread\" in shopping_list\n",
    "print(check)\n"
   ]
  },
  {
   "cell_type": "code",
   "execution_count": 2,
   "metadata": {},
   "outputs": [
    {
     "name": "stdout",
     "output_type": "stream",
     "text": [
      "{'LHR': 'Heathrow', 'LAX': 'Los Angeles', 'SIN': 'Changi', 'FRA': 'Frankfurt', 'ORD': \"O'Hare\", 'BOM': 'Chhatrapati Shivaji'}\n"
     ]
    }
   ],
   "source": [
    "airports = {\n",
    "    \"LHR\": \"Heathrow\",\n",
    "    \"LAX\": \"Los Angeles\",\n",
    "    \"SIN\": \"Changi\",\n",
    "    \"FRA\": \"Frankfurt\",\n",
    "    \"ORD\": \"O'Hare\",\n",
    "    \"BOM\": \"Chhatrapati Shivaji\"\n",
    "}\n",
    "\n",
    "type(airports)\n",
    "print(airports)\n",
    "inventory = {}  # Empty Dictionary\n"
   ]
  },
  {
   "cell_type": "code",
   "execution_count": 3,
   "metadata": {},
   "outputs": [
    {
     "name": "stdout",
     "output_type": "stream",
     "text": [
      "['January', 'February', 'March']\n",
      "['April', 'May', 'June']\n",
      "['July', 'August', 'September']\n",
      "['October', 'November', 'December']\n"
     ]
    }
   ],
   "source": [
    "months = [\"January\", \"February\", \"March\", \"April\", \"May\", \"June\",\n",
    "          \"July\", \"August\", \"September\", \"October\", \"November\", \"December\"]\n",
    "first_quarter = months[0:3]\n",
    "second_quarter = months[3:6]\n",
    "third_quarter = months[6:9]\n",
    "forth_quarter = months[9:12]\n",
    "\n",
    "print(first_quarter)\n",
    "print(second_quarter)\n",
    "print(third_quarter)\n",
    "print(forth_quarter)\n"
   ]
  },
  {
   "cell_type": "code",
   "execution_count": 4,
   "metadata": {},
   "outputs": [
    {
     "name": "stdout",
     "output_type": "stream",
     "text": [
      "<class 'list'>\n",
      "['gold', True, 24, 2.0]\n",
      "['summit', 'pinnacle', 'apogee'] [19, 24] []\n"
     ]
    }
   ],
   "source": [
    "# Example 1\n",
    "numbers = [24, 8, 2, 17, 19]\n",
    "shopping_list = [\"Milk\", \"Bread\", \"Chocolate spread\"]\n",
    "vagrant = [\"gold\", True, 24, 2.0]\n",
    "print(type(shopping_list))\n",
    "print(vagrant)\n",
    "\n",
    "# Example 2\n",
    "vocabulary = [\"summit\", \"pinnacle\", \"apogee\"]\n",
    "numbers = [19, 24]\n",
    "empty = []\n",
    "print(vocabulary, numbers, empty)\n"
   ]
  },
  {
   "cell_type": "code",
   "execution_count": 5,
   "metadata": {},
   "outputs": [
    {
     "name": "stdout",
     "output_type": "stream",
     "text": [
      "Your breakfast menu is now\n",
      "['Juice', 'Bread', 'Chocolate spread', 'Eggs']\n"
     ]
    }
   ],
   "source": [
    "breakfast_menu = [\"Milk\", \"Bread\", \"Chocolate spread\", \"Eggs\"]\n",
    "breakfast_menu[0] = \"Juice\"\n",
    "print(\"Your breakfast menu is now\")\n",
    "print(breakfast_menu)\n"
   ]
  },
  {
   "cell_type": "code",
   "execution_count": 1,
   "metadata": {},
   "outputs": [
    {
     "name": "stdout",
     "output_type": "stream",
     "text": [
      "['Milk', 'Bread', 'CreamChocolate spread', 'Baking power', 'Flour', 'Bananas', 'Apples', 'Eggs', 'Bread']\n",
      "['Milk', 'Bread', 'CreamChocolate spread', 'Baking power', 'Flour', 'Bananas', 'Apples', 'Eggs']\n"
     ]
    }
   ],
   "source": [
    "shopping_list = [\"Milk\", \"Bread\", \"Cream\" \"Chocolate spread\",\n",
    "                 \"Baking power\", \"Apples\", \"Flour\", \"Bananas\", \"Apples\",\n",
    "                 \"Eggs\", \"Bread\"]\n",
    "shopping_list.remove(\"Apples\")\n",
    "print(shopping_list)\n",
    "shopping_list.pop()\n",
    "print(shopping_list)\n"
   ]
  },
  {
   "cell_type": "code",
   "execution_count": 7,
   "metadata": {
    "collapsed": true
   },
   "outputs": [],
   "source": [
    "number_of_legs = {\n",
    "    'birds': 2,\n",
    "    'cats': 4,\n",
    "    'ant': 6,\n",
    "    'spider': 8,\n",
    "}\n"
   ]
  },
  {
   "cell_type": "code",
   "execution_count": 1,
   "metadata": {},
   "outputs": [
    {
     "name": "stdout",
     "output_type": "stream",
     "text": [
      "<class 'list'>\n",
      "['gold', True, 24, 2.0]\n"
     ]
    }
   ],
   "source": [
    "numbers = [24, 8, 2, 17, 19]\n",
    "shopping_list = [\"Milk\", \"Bread\", \"Chocolate spread\"]\n",
    "vagrant = [\"gold\", True, 24, 2.0]\n",
    "print(type(shopping_list))\n",
    "print(vagrant)"
   ]
  },
  {
   "cell_type": "code",
   "execution_count": 3,
   "metadata": {},
   "outputs": [
    {
     "name": "stdout",
     "output_type": "stream",
     "text": [
      "['summit', 'pinnacle', 'apogee'] [19, 24] []\n"
     ]
    }
   ],
   "source": [
    "vocabulary = [\"summit\", \"pinnacle\", \"apogee\"]\n",
    "numbers = [19, 24]\n",
    "empty = []\n",
    "print(vocabulary, numbers, empty)"
   ]
  },
  {
   "cell_type": "code",
   "execution_count": 6,
   "metadata": {},
   "outputs": [
    {
     "name": "stdout",
     "output_type": "stream",
     "text": [
      "Milk\n",
      "Eggs\n",
      "Bread\n",
      "Eggs\n"
     ]
    }
   ],
   "source": [
    "shopping_list=[\"Milk\",\"Bread\",\"Chocolate spread\",\"Eggs\"] \n",
    "print(shopping_list[0])\n",
    "print(shopping_list[4-1])\n",
    "print(shopping_list[2-1])\n",
    "print(shopping_list[4*2-5])"
   ]
  },
  {
   "cell_type": "code",
   "execution_count": 8,
   "metadata": {},
   "outputs": [
    {
     "name": "stdout",
     "output_type": "stream",
     "text": [
      "['January', 'February', 'March'] ['April', 'May', 'June'] ['July', 'August', 'September'] ['October', 'November', 'December']\n"
     ]
    }
   ],
   "source": [
    "months = [\"January\", \"February\", \"March\", \"April\", \"May\", \"June\", \"July\", \"August\", \"September\", \"October\", \"November\", \"December\"]\n",
    "first_quarter = months[0:3]\n",
    "second_quarter = months[3:6]\n",
    "third_quarter = months[6:9]\n",
    "fourth_quarter = months[9:12]\n",
    "print(first_quarter, second_quarter, third_quarter, fourth_quarter)"
   ]
  },
  {
   "cell_type": "code",
   "execution_count": 10,
   "metadata": {},
   "outputs": [
    {
     "name": "stdout",
     "output_type": "stream",
     "text": [
      "['Bread', 'Chocolate spread', 'Eggs']\n"
     ]
    }
   ],
   "source": [
    "breakfast_menu = [\"Milk\", \"Bread\", \"Chocolate spread\", \"Eggs\"] \n",
    "del breakfast_menu[0]\n",
    "print(breakfast_menu)"
   ]
  },
  {
   "cell_type": "code",
   "execution_count": 11,
   "metadata": {},
   "outputs": [
    {
     "name": "stdout",
     "output_type": "stream",
     "text": [
      "['Milk', 'Bread', 'Chocolate spread', 'Bananas', 'Apples']\n",
      "['Milk', 'Bread', 'Cream', 'Chocolate spread', 'Bananas', 'Apples']\n",
      "['Milk', 'Bread', 'Cream', 'Chocolate spread', 'Bananas', 'Apples', 'Baking powder', 'Flour']\n"
     ]
    }
   ],
   "source": [
    "shopping_list = [\"Milk\", \"Bread\", \"Chocolate spread\"]\n",
    "shopping_list.append(\"Bananas\")\n",
    "shopping_list.append(\"Apples\")\n",
    "print(shopping_list)\n",
    "shopping_list.insert(2,\"Cream\")\n",
    "print(shopping_list)\n",
    "groceries = [\"Baking powder\", \"Flour\"]\n",
    "shopping_list.extend(groceries)\n",
    "print(shopping_list)"
   ]
  },
  {
   "cell_type": "code",
   "execution_count": 12,
   "metadata": {},
   "outputs": [
    {
     "name": "stdout",
     "output_type": "stream",
     "text": [
      "<class 'dict'>\n",
      "{'apples': 244, 'bananas': 207, 'oranges': 19, 'mangoes': 17}\n"
     ]
    }
   ],
   "source": [
    "inventory = {'apples': 244, 'bananas': 207, 'oranges': 19,'mangoes': 17}\n",
    "print(type(inventory))\n",
    "print(inventory)"
   ]
  },
  {
   "cell_type": "code",
   "execution_count": 14,
   "metadata": {},
   "outputs": [
    {
     "name": "stdout",
     "output_type": "stream",
     "text": [
      "[2, 4, 6, 8, 10, 12, 14, 16, 18, 20, 22, 24, 1, 3, 5, 7, 9, 11, 13, 15, 17, 19, 21, 23, 2, 3, 5, 7, 11, 13, 17, 19, 23]\n",
      "<class 'list'>\n",
      "{1, 2, 3, 4, 5, 6, 7, 8, 9, 10, 11, 12, 13, 14, 15, 16, 17, 18, 19, 20, 21, 22, 23, 24}\n",
      "<class 'set'>\n"
     ]
    }
   ],
   "source": [
    "odds = [ 2,4,6,8,10,12,14,16, 18,20, 22, 24]\n",
    "evens = [ 1,3,5,7,9, 11, 13, 15, 17, 19, 21, 23]\n",
    "primes = [ 2, 3, 5, 7, 11, 13, 17, 19, 23]\n",
    "numbers = odds + evens + primes\n",
    "print(numbers)\n",
    "print(type(numbers))\n",
    "numbers = set(numbers)\n",
    "print(numbers)\n",
    "print(type(numbers))"
   ]
  },
  {
   "cell_type": "code",
   "execution_count": 15,
   "metadata": {},
   "outputs": [
    {
     "name": "stdout",
     "output_type": "stream",
     "text": [
      "{1, 2, 4}\n",
      "3\n",
      "{1, 2, 4}\n",
      "3\n",
      "{1, 2, 4, 5}\n",
      "4\n"
     ]
    }
   ],
   "source": [
    "numbers = {1, 2}\n",
    "numbers.add(4)\n",
    "print(numbers)\n",
    "print(len(numbers))\n",
    "numbers.add(1)\n",
    "print(numbers)\n",
    "print(len(numbers))\n",
    "numbers.add(5)\n",
    "print(numbers)\n",
    "print(len(numbers))\n",
    "magic_numbers = {8, 20, 28, 50, 82}\n",
    "numbers.update(magic_numbers)"
   ]
  },
  {
   "cell_type": "code",
   "execution_count": 16,
   "metadata": {},
   "outputs": [
    {
     "name": "stdout",
     "output_type": "stream",
     "text": [
      "{1, 2, 8, 50, 82, 20}\n",
      "{1, 8, 50, 82, 20}\n",
      "{8, 50, 82, 20}\n",
      "set()\n"
     ]
    }
   ],
   "source": [
    "numbers = {1, 2, 82, 20, 50, 8, 28}\n",
    "numbers.discard(28)\n",
    "print(numbers)\n",
    "numbers.remove(2)\n",
    "print(numbers)\n",
    "numbers.pop()\n",
    "print(numbers)\n",
    "numbers.clear()\n",
    "print(numbers)\n"
   ]
  },
  {
   "cell_type": "code",
   "execution_count": 17,
   "metadata": {},
   "outputs": [
    {
     "name": "stdout",
     "output_type": "stream",
     "text": [
      "{1, 8, 50, 82, 20, 28}\n",
      "{1, 3, 5, 7, 8, 11, 13, 17, 82, 19, 20, 23, 28, 50}\n"
     ]
    }
   ],
   "source": [
    "numbers = {1, 2, 82, 20, 50, 8, 28}\n",
    "primes = { 2, 3, 5, 7, 11, 13, 17, 19, 23 }\n",
    "numbers.union(primes)\n",
    "numbers.intersection(primes)\n",
    "print(numbers.difference(primes))\n",
    "print(numbers.symmetric_difference(primes))"
   ]
  },
  {
   "cell_type": "code",
   "execution_count": 19,
   "metadata": {},
   "outputs": [
    {
     "name": "stdout",
     "output_type": "stream",
     "text": [
      "True\n",
      "True\n",
      "True\n"
     ]
    }
   ],
   "source": [
    "odds = set([ 2,4,6,8,10,12,14,16, 18,20, 22, 24]) \n",
    "evens = set([1,3,5,7,9, 11, 13, 15, 17, 19, 21, 23]) \n",
    "numbers = odds.union(evens) \n",
    "print(odds.issubset(numbers)) \n",
    "print(numbers.issuperset(evens)) \n",
    "print(odds.isdisjoint(evens))"
   ]
  },
  {
   "cell_type": "code",
   "execution_count": 20,
   "metadata": {
    "collapsed": true
   },
   "outputs": [],
   "source": [
    "ethan_genres = ('Rock', 'Jazz', 'Pop', 'Hip hop', 'Folk', 'Blues', 'Electronic')\n",
    "emma_genres = ('Jazz','Pop', 'Electronic', 'Folk', 'Country','Caribbean')"
   ]
  },
  {
   "cell_type": "code",
   "execution_count": 21,
   "metadata": {},
   "outputs": [
    {
     "name": "stdout",
     "output_type": "stream",
     "text": [
      "None\n"
     ]
    }
   ],
   "source": [
    "name = None\n",
    "print(name)"
   ]
  },
  {
   "cell_type": "code",
   "execution_count": null,
   "metadata": {
    "collapsed": true
   },
   "outputs": [],
   "source": []
  }
 ],
 "metadata": {
  "kernelspec": {
   "display_name": "Python 3",
   "language": "python",
   "name": "python3"
  },
  "language_info": {
   "codemirror_mode": {
    "name": "ipython",
    "version": 3
   },
   "file_extension": ".py",
   "mimetype": "text/x-python",
   "name": "python",
   "nbconvert_exporter": "python",
   "pygments_lexer": "ipython3",
   "version": "3.6.1"
  }
 },
 "nbformat": 4,
 "nbformat_minor": 2
}
