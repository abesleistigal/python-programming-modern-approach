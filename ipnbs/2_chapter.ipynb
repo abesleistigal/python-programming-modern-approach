{
 "cells": [
  {
   "cell_type": "code",
   "execution_count": 1,
   "metadata": {},
   "outputs": [
    {
     "name": "stdout",
     "output_type": "stream",
     "text": [
      "True\n",
      "True\n",
      "False\n",
      "False\n",
      "True\n"
     ]
    }
   ],
   "source": [
    "shopping_list = [\"Milk\", \"Bread\", \"Chocolate spread\", \"Eggs\"]\n",
    "check = \"Eggs\" in shopping_list\n",
    "print(check)\n",
    "check = \"Milk\" in shopping_list\n",
    "print(check)\n",
    "check = \"mango\" in shopping_list\n",
    "print(check)\n",
    "check = \"eggs\" in shopping_list\n",
    "print(check)\n",
    "check = \"Bread\" in shopping_list\n",
    "print(check)\n"
   ]
  },
  {
   "cell_type": "code",
   "execution_count": 2,
   "metadata": {},
   "outputs": [
    {
     "name": "stdout",
     "output_type": "stream",
     "text": [
      "{'LHR': 'Heathrow', 'LAX': 'Los Angeles', 'SIN': 'Changi', 'FRA': 'Frankfurt', 'ORD': \"O'Hare\", 'BOM': 'Chhatrapati Shivaji'}\n"
     ]
    }
   ],
   "source": [
    "airports = {\n",
    "    \"LHR\": \"Heathrow\",\n",
    "    \"LAX\": \"Los Angeles\",\n",
    "    \"SIN\": \"Changi\",\n",
    "    \"FRA\": \"Frankfurt\",\n",
    "    \"ORD\": \"O'Hare\",\n",
    "    \"BOM\": \"Chhatrapati Shivaji\"\n",
    "}\n",
    "\n",
    "type(airports)\n",
    "print(airports)\n",
    "inventory = {}  # Empty Dictionary\n"
   ]
  },
  {
   "cell_type": "code",
   "execution_count": 3,
   "metadata": {},
   "outputs": [
    {
     "name": "stdout",
     "output_type": "stream",
     "text": [
      "['January', 'February', 'March']\n",
      "['April', 'May', 'June']\n",
      "['July', 'August', 'September']\n",
      "['October', 'November', 'December']\n"
     ]
    }
   ],
   "source": [
    "months = [\"January\", \"February\", \"March\", \"April\", \"May\", \"June\",\n",
    "          \"July\", \"August\", \"September\", \"October\", \"November\", \"December\"]\n",
    "first_quarter = months[0:3]\n",
    "second_quarter = months[3:6]\n",
    "third_quarter = months[6:9]\n",
    "forth_quarter = months[9:12]\n",
    "\n",
    "print(first_quarter)\n",
    "print(second_quarter)\n",
    "print(third_quarter)\n",
    "print(forth_quarter)\n"
   ]
  },
  {
   "cell_type": "code",
   "execution_count": 4,
   "metadata": {},
   "outputs": [
    {
     "name": "stdout",
     "output_type": "stream",
     "text": [
      "<class 'list'>\n",
      "['gold', True, 24, 2.0]\n",
      "['summit', 'pinnacle', 'apogee'] [19, 24] []\n"
     ]
    }
   ],
   "source": [
    "# Example 1\n",
    "numbers = [24, 8, 2, 17, 19]\n",
    "shopping_list = [\"Milk\", \"Bread\", \"Chocolate spread\"]\n",
    "vagrant = [\"gold\", True, 24, 2.0]\n",
    "print(type(shopping_list))\n",
    "print(vagrant)\n",
    "\n",
    "# Example 2\n",
    "vocabulary = [\"summit\", \"pinnacle\", \"apogee\"]\n",
    "numbers = [19, 24]\n",
    "empty = []\n",
    "print(vocabulary, numbers, empty)\n"
   ]
  },
  {
   "cell_type": "code",
   "execution_count": 5,
   "metadata": {},
   "outputs": [
    {
     "name": "stdout",
     "output_type": "stream",
     "text": [
      "Your breakfast menu is now\n",
      "['Juice', 'Bread', 'Chocolate spread', 'Eggs']\n"
     ]
    }
   ],
   "source": [
    "breakfast_menu = [\"Milk\", \"Bread\", \"Chocolate spread\", \"Eggs\"]\n",
    "breakfast_menu[0] = \"Juice\"\n",
    "print(\"Your breakfast menu is now\")\n",
    "print(breakfast_menu)\n"
   ]
  },
  {
   "cell_type": "code",
   "execution_count": 1,
   "metadata": {},
   "outputs": [
    {
     "name": "stdout",
     "output_type": "stream",
     "text": [
      "['Milk', 'Bread', 'CreamChocolate spread', 'Baking power', 'Flour', 'Bananas', 'Apples', 'Eggs', 'Bread']\n",
      "['Milk', 'Bread', 'CreamChocolate spread', 'Baking power', 'Flour', 'Bananas', 'Apples', 'Eggs']\n"
     ]
    }
   ],
   "source": [
    "shopping_list = [\"Milk\", \"Bread\", \"Cream\" \"Chocolate spread\",\n",
    "                 \"Baking power\", \"Apples\", \"Flour\", \"Bananas\", \"Apples\",\n",
    "                 \"Eggs\", \"Bread\"]\n",
    "shopping_list.remove(\"Apples\")\n",
    "print(shopping_list)\n",
    "shopping_list.pop()\n",
    "print(shopping_list)\n"
   ]
  },
  {
   "cell_type": "code",
   "execution_count": 7,
   "metadata": {
    "collapsed": true
   },
   "outputs": [],
   "source": [
    "number_of_legs = {\n",
    "    'birds': 2,\n",
    "    'cats': 4,\n",
    "    'ant': 6,\n",
    "    'spider': 8,\n",
    "}\n"
   ]
  },
  {
   "cell_type": "code",
   "execution_count": null,
   "metadata": {
    "collapsed": true
   },
   "outputs": [],
   "source": []
  }
 ],
 "metadata": {
  "kernelspec": {
   "display_name": "Python 3",
   "language": "python",
   "name": "python3"
  },
  "language_info": {
   "codemirror_mode": {
    "name": "ipython",
    "version": 3
   },
   "file_extension": ".py",
   "mimetype": "text/x-python",
   "name": "python",
   "nbconvert_exporter": "python",
   "pygments_lexer": "ipython3",
   "version": "3.6.1"
  }
 },
 "nbformat": 4,
 "nbformat_minor": 2
}
