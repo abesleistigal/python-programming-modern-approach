{
 "cells": [
  {
   "cell_type": "code",
   "execution_count": 1,
   "metadata": {},
   "outputs": [
    {
     "name": "stdout",
     "output_type": "stream",
     "text": [
      "Hello world!\n",
      "Hello Python\n"
     ]
    }
   ],
   "source": [
    "print(\"Hello world!\")\n",
    "print(\"Hello Python\")\n"
   ]
  },
  {
   "cell_type": "code",
   "execution_count": 2,
   "metadata": {
    "scrolled": true
   },
   "outputs": [
    {
     "name": "stdout",
     "output_type": "stream",
     "text": [
      "Hey James Bond, 894453 is your verification code\n",
      "Hey Guido, 894453 is your verification code\n",
      "Who is this person named Guido\n",
      "He is the creator of the Python Programming Language \n"
     ]
    }
   ],
   "source": [
    "# Example 1\n",
    "name = \"James Bond\"\n",
    "verification_code = 894453\n",
    "message = \"Hey {0}, {1} is your verification code\".format(\n",
    "    name, verification_code)\n",
    "print(message)\n",
    "\n",
    "\n",
    "# Example 2\n",
    "verification_code = 894453\n",
    "name = 'Guido'\n",
    "\n",
    "print('Hey {}, {} is your verification code'.format(name, verification_code))\n",
    "print('Who is this person named {}'.format(name))\n",
    "print('He is the creator of the Python Programming Language ')\n"
   ]
  },
  {
   "cell_type": "code",
   "execution_count": 3,
   "metadata": {},
   "outputs": [
    {
     "name": "stdout",
     "output_type": "stream",
     "text": [
      "         a duck walks into a Bar          \n",
      "         a duck walks into a Bar          \n",
      "         a duck walks into a Bar          \n"
     ]
    }
   ],
   "source": [
    "joke = \"         a duck walks into a Bar          \"\n",
    "\n",
    "# Center the string within 10 spaces:\n",
    "print(joke.center(10))\n",
    "# Left justify with 10 spaces from left\n",
    "print(joke.ljust(10))\n",
    "# Right justify with 10 spaces from right\n",
    "print(joke.rjust(10))\n"
   ]
  },
  {
   "cell_type": "code",
   "execution_count": 4,
   "metadata": {},
   "outputs": [
    {
     "name": "stdout",
     "output_type": "stream",
     "text": [
      "A duck walks into a bar\n",
      "A Duck Walks Into A Bar\n",
      "A DUCK WALKS INTO A BAR\n",
      "a duck walks into a bar\n",
      "A DUCK WALKS INTO A bAR\n"
     ]
    }
   ],
   "source": [
    "joke = \"a duck walks into a Bar\"\n",
    "\n",
    "# Capitalize the first word\n",
    "print(joke.capitalize())\n",
    "\n",
    "# Capitalize all the words\n",
    "print(joke.title())\n",
    "\n",
    "# Convert all characters to uppercase\n",
    "print(joke.upper())\n",
    "\n",
    "# Convert all characters to lowercase\n",
    "print(joke.lower())\n",
    "\n",
    "# Swap upper and lowercase (uppercase become lower and lower case become upper)\n",
    "print(joke.swapcase())\n"
   ]
  },
  {
   "cell_type": "code",
   "execution_count": 5,
   "metadata": {},
   "outputs": [
    {
     "name": "stdout",
     "output_type": "stream",
     "text": [
      "143\n",
      "11\n",
      "2\n"
     ]
    }
   ],
   "source": [
    "poem = \"\"\"\n",
    "A thing of beauty is a joy for ever:\n",
    "Its loveliness increases; it will never\n",
    "Pass into nothingness; but still will keep\n",
    "A bower quiet for us, and a sleep\n",
    "Full of sweet dreams, and health, and quiet breathing.\n",
    "\"\"\"\n",
    "\n",
    "print(poem.find(\"and\"))\n",
    "print(poem.count(\"a\"))\n",
    "print(poem.count(\"will\"))\n"
   ]
  },
  {
   "cell_type": "code",
   "execution_count": 6,
   "metadata": {},
   "outputs": [
    {
     "name": "stdout",
     "output_type": "stream",
     "text": [
      "H\n",
      "w\n",
      "!\n"
     ]
    }
   ],
   "source": [
    "message = \"Hello world!\"\n",
    "print(message[0])\n",
    "print(message[6])\n",
    "print(message[11])\n"
   ]
  },
  {
   "cell_type": "code",
   "execution_count": 7,
   "metadata": {},
   "outputs": [
    {
     "name": "stdout",
     "output_type": "stream",
     "text": [
      "+1-809-90990\n"
     ]
    }
   ],
   "source": [
    "dash = \"-\"\n",
    "numbers = [\"+1\", \"809\", \"90990\"]\n",
    "phone_number = dash.join(numbers)\n",
    "print(phone_number)\n"
   ]
  },
  {
   "cell_type": "code",
   "execution_count": 8,
   "metadata": {},
   "outputs": [
    {
     "name": "stdout",
     "output_type": "stream",
     "text": [
      "0\n",
      "13\n"
     ]
    }
   ],
   "source": [
    "empty = \"\"\n",
    "say = \"Hello, world!\"\n",
    "print(len(empty))\n",
    "print(len(say))\n"
   ]
  },
  {
   "cell_type": "code",
   "execution_count": 9,
   "metadata": {},
   "outputs": [
    {
     "name": "stdout",
     "output_type": "stream",
     "text": [
      "hello\n",
      "hello, \n",
      "o\n",
      ", worl\n"
     ]
    }
   ],
   "source": [
    "text = \"hello, world!\"\n",
    "print(text[0:5])\n",
    "print(text[0:7])\n",
    "print(text[8:9])\n",
    "print(text[5:11])\n"
   ]
  },
  {
   "cell_type": "code",
   "execution_count": 10,
   "metadata": {},
   "outputs": [
    {
     "name": "stdout",
     "output_type": "stream",
     "text": [
      "hello, wo\n",
      "ello, world\n",
      "o, world\n",
      "hello, wor\n"
     ]
    }
   ],
   "source": [
    "text = \"hello, world\"\n",
    "print(text[:9])\n",
    "print(text[1:])\n",
    "print(text[4:])\n",
    "print(text[:10])\n"
   ]
  },
  {
   "cell_type": "code",
   "execution_count": 11,
   "metadata": {},
   "outputs": [
    {
     "name": "stdout",
     "output_type": "stream",
     "text": [
      "['www', 'goggle', 'com']\n",
      "['+91', '9000', '900023']\n",
      "['Hey', ' Hi', ' Hello']\n",
      "<class 'list'>\n"
     ]
    }
   ],
   "source": [
    "url = \"www.goggle.com\"\n",
    "print(url.split('.'))\n",
    "\n",
    "phone_number = '+91 9000 900023'\n",
    "print(phone_number.split())\n",
    "\n",
    "message = \"Hey; Hi; Hello\"\n",
    "print(message.split(\";\"))\n",
    "print(type(message.split(\";\")))\n"
   ]
  },
  {
   "cell_type": "code",
   "execution_count": 2,
   "metadata": {},
   "outputs": [
    {
     "name": "stdout",
     "output_type": "stream",
     "text": [
      "True\n",
      "False\n",
      "True\n",
      "False\n"
     ]
    }
   ],
   "source": [
    "quote = \"\"\"Be not afraid of greatness: some are born great,\n",
    "some achieve greatness and some have greatness thrust upon them.\"\"\"\n",
    "\n",
    "print(quote.startswith('Be'))\n",
    "print(quote.endswith('them'))\n",
    "print(quote.endswith('them.'))\n",
    "print(quote.isalnum())\n"
   ]
  },
  {
   "cell_type": "code",
   "execution_count": null,
   "metadata": {
    "collapsed": true
   },
   "outputs": [],
   "source": [
    "'Hello world !'\n",
    "\n",
    "\"That's a Kickstart\"\n",
    "\n",
    "\n",
    "'''\n",
    "Double, double toil and trouble;\n",
    "Fire burn and caldron bubble.\n",
    "Fillet of a fenny snake,\n",
    "In the caldron boil and bake;\n",
    "Eye of newt and toe of frog,\n",
    "Wool of bat and tongue of dog,\n",
    "Adder's fork and blind-worm's sting,\n",
    "Lizard's leg and howlet's wing,\n",
    "For a charm of powerful trouble,\n",
    "Like a hell-broth boil and bubble.\n",
    "'''\n",
    "\n",
    "\n",
    "\"\"\"\n",
    "The rainbow comes and goes,\n",
    "And lovely is the rose;\n",
    "The moon doth with delight\n",
    "Look round her when the heavens are bare;\n",
    "Waters on a starry night\n",
    "Are beautiful and fair;\n",
    "The sunshine is a glorious birth;\n",
    "But yet I know, where'er I go,\n",
    "That there hath pass'd away a glory from the earth.\n",
    "\"\"\"\n"
   ]
  }
 ],
 "metadata": {
  "kernelspec": {
   "display_name": "Python 3",
   "language": "python",
   "name": "python3"
  },
  "language_info": {
   "codemirror_mode": {
    "name": "ipython",
    "version": 3
   },
   "file_extension": ".py",
   "mimetype": "text/x-python",
   "name": "python",
   "nbconvert_exporter": "python",
   "pygments_lexer": "ipython3",
   "version": "3.6.1"
  }
 },
 "nbformat": 4,
 "nbformat_minor": 2
}
