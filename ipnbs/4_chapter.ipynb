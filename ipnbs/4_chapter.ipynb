{
 "cells": [
  {
   "cell_type": "code",
   "execution_count": 1,
   "metadata": {
    "collapsed": true
   },
   "outputs": [],
   "source": [
    "balance = 0\n",
    "\n",
    "\n",
    "def deposit(amount):\n",
    "    global balance\n",
    "    balance += amount\n",
    "    return balance\n",
    "\n",
    "\n",
    "def withdraw(amount):\n",
    "    global balance\n",
    "    balance -= amount\n",
    "    return balance\n"
   ]
  },
  {
   "cell_type": "code",
   "execution_count": 2,
   "metadata": {},
   "outputs": [
    {
     "name": "stdout",
     "output_type": "stream",
     "text": [
      "The amount of time you are in bed and asleep is -1 day, 8:00:00\n"
     ]
    }
   ],
   "source": [
    "from datetime import datetime\n",
    "\n",
    "\n",
    "def alarm_bedtime(bedtime=\"22:00:00\", wake=\"06:00:00\"):\n",
    "    fmt = \"%H:%M:%S\"\n",
    "    diff = datetime.strptime(wake, fmt) - datetime.strptime(bedtime, fmt)\n",
    "    print(\"The amount of time you are in bed and asleep is {}\".format(diff))\n",
    "\n",
    "\n",
    "alarm_bedtime()\n"
   ]
  },
  {
   "cell_type": "code",
   "execution_count": 3,
   "metadata": {
    "collapsed": true
   },
   "outputs": [],
   "source": [
    "def make_omelette(stir=True, flame=0, *ingredients):\n",
    "    '''\n",
    "    Function that makes omelette with required flaming.\n",
    "    Please use it casrefully otherwise ommelete might burn\n",
    "    '''\n",
    "    for ingredient in ingredients:\n",
    "        print(\"Taking {}\".format(ingredient))\n",
    "\n",
    "    if stir is True:\n",
    "        print(\"Stirring...{} with egg\".format(ingredients))\n",
    "\n",
    "    if stir is False:\n",
    "        print(\"Taking egg\")\n",
    "\n",
    "    print(\"Pouring it on to the pan\")\n",
    "    print(\"Flaming at level {}\".format(flame))\n",
    "    print(\"Your omelette ready !\")\n",
    "    return ingredients\n",
    "\n",
    "# make_omelette(False, 4, \"salt\", \"pepper\")\n"
   ]
  },
  {
   "cell_type": "code",
   "execution_count": 4,
   "metadata": {},
   "outputs": [
    {
     "name": "stdout",
     "output_type": "stream",
     "text": [
      "Enter the speed of wind in knots\n",
      "20\n",
      "Breeze\n"
     ]
    }
   ],
   "source": [
    "speed = int(input(\"Enter the speed of wind in knots\\n\"))\n",
    "\n",
    "if speed < 1:\n",
    "    print(\"Calm\")\n",
    "elif 1 <= speed <= 3:\n",
    "    print(\"Light air\")\n",
    "elif 4 <= speed <= 27:\n",
    "    print(\"Breeze\")\n",
    "elif 28 <= speed <= 47:\n",
    "    print(\"Gales\")\n",
    "elif 48 <= speed <= 63:\n",
    "    print(\"Storm\")\n",
    "else:\n",
    "    print(\"Hurricane\")\n"
   ]
  },
  {
   "cell_type": "code",
   "execution_count": null,
   "metadata": {
    "collapsed": true
   },
   "outputs": [],
   "source": []
  }
 ],
 "metadata": {
  "kernelspec": {
   "display_name": "Python 3",
   "language": "python",
   "name": "python3"
  },
  "language_info": {
   "codemirror_mode": {
    "name": "ipython",
    "version": 3
   },
   "file_extension": ".py",
   "mimetype": "text/x-python",
   "name": "python",
   "nbconvert_exporter": "python",
   "pygments_lexer": "ipython3",
   "version": "3.6.1"
  }
 },
 "nbformat": 4,
 "nbformat_minor": 2
}
