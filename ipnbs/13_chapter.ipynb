{
 "cells": [
  {
   "cell_type": "code",
   "execution_count": 1,
   "metadata": {
    "collapsed": true
   },
   "outputs": [],
   "source": [
    "import sqlite3\n",
    "conn = sqlite3.connect('movies.db')\n",
    "c = conn.cursor()\n",
    "\n",
    "c.execute(\n",
    "    \"\"\"\n",
    "CREATE TABLE movies (\n",
    "id INTEGER,\n",
    "movie TEXT,\n",
    "year TEXT,\n",
    "rating REAL,\n",
    "studio TEXT\n",
    ")\n",
    "\"\"\")\n",
    "conn.close()\n",
    "# Close database\n"
   ]
  },
  {
   "cell_type": "code",
   "execution_count": 2,
   "metadata": {},
   "outputs": [
    {
     "name": "stdout",
     "output_type": "stream",
     "text": [
      "Record Successfully Deleted\n"
     ]
    }
   ],
   "source": [
    "import sqlite3\n",
    "conn = sqlite3.connect('movies.db')\n",
    "c = conn.cursor()\n",
    "query = c.execute(\"DELETE From movies WHERE movie='Frozen';\")\n",
    "conn.commit()\n",
    "print(\"Record Successfully Deleted\")\n"
   ]
  },
  {
   "cell_type": "code",
   "execution_count": 2,
   "metadata": {},
   "outputs": [
    {
     "name": "stderr",
     "output_type": "stream",
     "text": [
      "ERROR:root:An unexpected error occurred while tokenizing input\n",
      "The following traceback may be corrupted or invalid\n",
      "The error message is: ('EOF in multi-line string', (1, 1))\n",
      "\n"
     ]
    },
    {
     "ename": "OperationalError",
     "evalue": "table movies already exists",
     "output_type": "error",
     "traceback": [
      "\u001b[0;31m---------------------------------------------------------------------------\u001b[0m",
      "\u001b[0;31mOperationalError\u001b[0m                          Traceback (most recent call last)",
      "\u001b[0;32m<ipython-input-2-bd3d2785ba69>\u001b[0m in \u001b[0;36m<module>\u001b[0;34m()\u001b[0m\n\u001b[1;32m     10\u001b[0m \u001b[0mrating\u001b[0m \u001b[0mREAL\u001b[0m\u001b[0;34m,\u001b[0m\u001b[0;34m\u001b[0m\u001b[0m\n\u001b[1;32m     11\u001b[0m \u001b[0mstudio\u001b[0m \u001b[0mTEXT\u001b[0m\u001b[0;34m\u001b[0m\u001b[0m\n\u001b[0;32m---> 12\u001b[0;31m )\"\"\")\n\u001b[0m\u001b[1;32m     13\u001b[0m \u001b[0;34m\u001b[0m\u001b[0m\n\u001b[1;32m     14\u001b[0m dataset = ((1, \"Up\", 2009, 8.3, \"Pixar\"),\n",
      "\u001b[0;31mOperationalError\u001b[0m: table movies already exists"
     ]
    }
   ],
   "source": [
    "import sqlite3\n",
    "conn = sqlite3.connect('movies.db')\n",
    "c = conn.cursor()\n",
    "\n",
    "c.execute(\"\"\"\n",
    "CREATE TABLE movies (\n",
    "id INTEGER,\n",
    "movie TEXT,\n",
    "year TEXT,\n",
    "rating REAL,\n",
    "studio TEXT\n",
    ")\"\"\")\n",
    "\n",
    "dataset = ((1, \"Up\", 2009, 8.3, \"Pixar\"),\n",
    "           (2, \"Toy story\", 1995, 8.3, \"Pixar\"),\n",
    "           (3, \"Finding Nemo\", 2003, 8.1, \"Pixar\"),\n",
    "           (4, \"Zootopia\", 2016, 8.1, \"Disney\"),\n",
    "           (5, \"Moana\", 2016, 7.7, \"Disney\"),\n",
    "           (6, \"Despicable Me\", 2010, 7.7, \"Illumination\"),\n",
    "           (7, \"Frozen\", 2013, 7.5, \"Disney\"))\n",
    "\n",
    "for item in dataset:\n",
    "    # Write data to database\n",
    "    c.execute(\"INSERT INTO movies VALUES (?, ?, ?, ?, ?)\", item)\n",
    "    conn.commit()\n",
    "conn.close()  # Close database\n"
   ]
  },
  {
   "cell_type": "code",
   "execution_count": 4,
   "metadata": {},
   "outputs": [
    {
     "name": "stdout",
     "output_type": "stream",
     "text": [
      "Movies Database\n"
     ]
    }
   ],
   "source": [
    "import sqlite3\n",
    "conn = sqlite3.connect('movies.db')\n",
    "c = conn.cursor()\n",
    "query = c.execute(\"SELECT * FROM movies;\")\n",
    "print(\"Movies Database\")\n",
    "for row in query:\n",
    "    for column in row:\n",
    "        print(column)\n",
    "    print(\"---\")\n"
   ]
  },
  {
   "cell_type": "code",
   "execution_count": 5,
   "metadata": {
    "collapsed": true
   },
   "outputs": [],
   "source": [
    "import sqlite3\n",
    "conn = sqlite3.connect('movies.db')\n",
    "c = conn.cursor()\n",
    "query = c.execute(\"SELECT * FROM movies WHERE studio='Pixar';\")\n",
    "for row in query:\n",
    "    print(row)\n"
   ]
  },
  {
   "cell_type": "code",
   "execution_count": 6,
   "metadata": {
    "collapsed": true
   },
   "outputs": [],
   "source": [
    "import sqlite3\n",
    "conn = sqlite3.connect('movies.db')\n",
    "c = conn.cursor()\n",
    "query = c.execute(\"SELECT * FROM movies ORDER BY rating DESC\")\n",
    "for row in query:\n",
    "    print(row)\n"
   ]
  },
  {
   "cell_type": "code",
   "execution_count": 7,
   "metadata": {},
   "outputs": [
    {
     "name": "stdout",
     "output_type": "stream",
     "text": [
      "Record Successfully Updated\n"
     ]
    }
   ],
   "source": [
    "import sqlite3\n",
    "conn = sqlite3.connect('movies.db')\n",
    "c = conn.cursor()\n",
    "query = c.execute(\"UPDATE movies SET rating=8.7 WHERE movie='Frozen';\")\n",
    "conn.commit()\n",
    "print(\"Record Successfully Updated\")\n"
   ]
  },
  {
   "cell_type": "code",
   "execution_count": null,
   "metadata": {
    "collapsed": true
   },
   "outputs": [],
   "source": []
  }
 ],
 "metadata": {
  "kernelspec": {
   "display_name": "Python 3",
   "language": "python",
   "name": "python3"
  },
  "language_info": {
   "codemirror_mode": {
    "name": "ipython",
    "version": 3
   },
   "file_extension": ".py",
   "mimetype": "text/x-python",
   "name": "python",
   "nbconvert_exporter": "python",
   "pygments_lexer": "ipython3",
   "version": "3.6.1"
  }
 },
 "nbformat": 4,
 "nbformat_minor": 2
}
