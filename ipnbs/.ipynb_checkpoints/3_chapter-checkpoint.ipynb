{
 "cells": [
  {
   "cell_type": "code",
   "execution_count": 1,
   "metadata": {},
   "outputs": [
    {
     "name": "stdout",
     "output_type": "stream",
     "text": [
      "Enter the speed of wind in knots\n",
      "4\n",
      "Breeze\n"
     ]
    }
   ],
   "source": [
    "speed = int(input(\"Enter the speed of wind in knots\\n\"))\n",
    "\n",
    "if speed < 1:\n",
    "    print(\"Calm\")\n",
    "elif 1 <= speed <= 3:\n",
    "    print(\"Light air\")\n",
    "elif 4 <= speed <= 27:\n",
    "    print(\"Breeze\")\n",
    "elif 28 <= speed <= 47:\n",
    "    print(\"Gales\")\n",
    "elif 48 <= speed <= 63:\n",
    "    print(\"Storm\")\n",
    "else:\n",
    "    print(\"Hurricane\")\n"
   ]
  },
  {
   "cell_type": "code",
   "execution_count": 1,
   "metadata": {},
   "outputs": [
    {
     "name": "stdout",
     "output_type": "stream",
     "text": [
      "Enter your weight in Kg80\n",
      "Enter your height in Cms180\n",
      "Computing...\n",
      "Your bmi is 24.691358024691358\n",
      "\n",
      "Perfect ! Normal weight\n"
     ]
    }
   ],
   "source": [
    "weight = float(input(\"Enter your weight in Kg\"))\n",
    "height = float(input(\"Enter your height in Cms\"))\n",
    "\n",
    "bmi = (weight / (height**2)) * 10000\n",
    "print(\"Computing...\")\n",
    "print(\"Your bmi is {}\\n\".format(bmi))\n",
    "if bmi < 18.5:\n",
    "    print(\"Underweight\")\n",
    "elif 18.5 <= bmi <= 24.99:\n",
    "    print(\"Perfect ! Normal weight\")\n",
    "elif 25.00 <= bmi <= 30.00:\n",
    "    print(\"Overweight\")\n",
    "elif bmi > 30.00:\n",
    "    print(\"Obese\")\n"
   ]
  },
  {
   "cell_type": "code",
   "execution_count": 5,
   "metadata": {},
   "outputs": [
    {
     "name": "stdout",
     "output_type": "stream",
     "text": [
      "Enter number of days in month30\n",
      "Enter day of the month5\n",
      "  1  2  3  4  5  6  7\n",
      "\n",
      "  8  9 10 11 12 13 14\n",
      "\n",
      " 15 16 17 18 19 20 21\n",
      "\n",
      " 22 23 24 25 26 27 28\n",
      "\n",
      " 29 30"
     ]
    }
   ],
   "source": [
    "i = 1\n",
    "days = int(input(\"Enter number of days in month\"))\n",
    "start = int(input(\"Enter day of the month\"))\n",
    "\n",
    "while i <= days:\n",
    "    # print(\"hello\", end=\"\")\n",
    "    print(\"%3d\" % (i), end=\"\")\n",
    "    if(i == 7 or i == 14 or i == 21 or i == 28):\n",
    "        print(\"\\n\")\n",
    "    i += 1\n"
   ]
  },
  {
   "cell_type": "code",
   "execution_count": 6,
   "metadata": {},
   "outputs": [
    {
     "name": "stdout",
     "output_type": "stream",
     "text": [
      "10\n",
      "9\n",
      "8\n",
      "7\n",
      "6\n",
      "5\n",
      "4\n",
      "3\n",
      "2\n",
      "1\n",
      "Go!\n"
     ]
    }
   ],
   "source": [
    "import time\n",
    "f = 10\n",
    "t = 0\n",
    "while t < f:\n",
    "    print(f)\n",
    "    time.sleep(1)\n",
    "    f -= 1\n",
    "print(\"Go!\")\n"
   ]
  },
  {
   "cell_type": "code",
   "execution_count": 7,
   "metadata": {},
   "outputs": [
    {
     "ename": "TypeError",
     "evalue": "'range' object does not support item assignment",
     "output_type": "error",
     "traceback": [
      "\u001b[0;31m---------------------------------------------------------------------------\u001b[0m",
      "\u001b[0;31mTypeError\u001b[0m                                 Traceback (most recent call last)",
      "\u001b[0;32m<ipython-input-7-817cee9fc120>\u001b[0m in \u001b[0;36m<module>\u001b[0;34m()\u001b[0m\n\u001b[1;32m      2\u001b[0m \u001b[0mfinal_square\u001b[0m \u001b[0;34m=\u001b[0m \u001b[0;36m25\u001b[0m\u001b[0;34m\u001b[0m\u001b[0m\n\u001b[1;32m      3\u001b[0m \u001b[0mboard\u001b[0m \u001b[0;34m=\u001b[0m \u001b[0mrange\u001b[0m\u001b[0;34m(\u001b[0m\u001b[0;36m0\u001b[0m\u001b[0;34m,\u001b[0m \u001b[0mfinal_square\u001b[0m\u001b[0;34m)\u001b[0m\u001b[0;34m\u001b[0m\u001b[0m\n\u001b[0;32m----> 4\u001b[0;31m \u001b[0mboard\u001b[0m\u001b[0;34m[\u001b[0m\u001b[0;36m3\u001b[0m\u001b[0;34m]\u001b[0m \u001b[0;34m+=\u001b[0m \u001b[0;36m8\u001b[0m\u001b[0;34m\u001b[0m\u001b[0m\n\u001b[0m\u001b[1;32m      5\u001b[0m \u001b[0mboard\u001b[0m\u001b[0;34m[\u001b[0m\u001b[0;36m6\u001b[0m\u001b[0;34m]\u001b[0m \u001b[0;34m+=\u001b[0m \u001b[0;36m11\u001b[0m\u001b[0;34m\u001b[0m\u001b[0m\n\u001b[1;32m      6\u001b[0m \u001b[0mboard\u001b[0m\u001b[0;34m[\u001b[0m\u001b[0;36m9\u001b[0m\u001b[0;34m]\u001b[0m \u001b[0;34m+=\u001b[0m \u001b[0;36m9\u001b[0m\u001b[0;34m\u001b[0m\u001b[0m\n",
      "\u001b[0;31mTypeError\u001b[0m: 'range' object does not support item assignment"
     ]
    }
   ],
   "source": [
    "import random\n",
    "final_square = 25\n",
    "board = range(0, final_square)\n",
    "board[3] += 8\n",
    "board[6] += 11\n",
    "board[9] += 9\n",
    "board[10] += 2\n",
    "board[14] -= 10\n",
    "board[19] -= 11\n",
    "board[22] -= 2\n",
    "board[24] -= 8\n",
    "square = 0\n",
    "dice_roll = 0\n",
    "print(\"Game Starting at square {}\".format(square))\n",
    "while square < final_square:\n",
    "\n",
    "    dice_roll = random.randint(0, 7)\n",
    "\n",
    "    square += dice_roll\n",
    "\n",
    "    if square < len(board):\n",
    "        old_square = square\n",
    "        square += board[square]\n",
    "        print(\"dice roll = {}, landing = {}, instruction = {}, destination = {}\".format(\n",
    "            dice_roll, old_square, board[old_square], square))\n",
    "print(\"Game over !\")\n"
   ]
  },
  {
   "cell_type": "code",
   "execution_count": 8,
   "metadata": {},
   "outputs": [
    {
     "name": "stdout",
     "output_type": "stream",
     "text": [
      "10\n",
      "5\n",
      "5\n"
     ]
    }
   ],
   "source": [
    "\"\"\"\n",
    "def gcd(a, b):\n",
    "    '''\n",
    "    Returns the greatest common divisor of a and b.\n",
    "    Should be implemented using recursion.\n",
    "\n",
    "    >>> gcd(34, 19)\n",
    "    1\n",
    "    >>> gcd(39, 91)\n",
    "    13\n",
    "    >>> gcd(20, 30)\n",
    "    10\n",
    "    >>> gcd(40, 40)\n",
    "    40\n",
    "    '''\n",
    "    if b > a:\n",
    "        return gcd(b, a)\n",
    "\n",
    "    if a % b == 0:\n",
    "        return b\n",
    "\n",
    "    return gcd(b, a % b)\n",
    "\"\"\"\n",
    "\n",
    "'''\n",
    "a = int(input(\"Enter a number:\"))\n",
    "b = int(input(\"Enter another number\"))\n",
    "rem = a % b\n",
    "while rem!=0 :\n",
    "    a = b\n",
    "    b = rem\n",
    "    rem = a % b\n",
    "print(\"GCD of given numbers is :{}\".format(b))\n",
    "'''\n",
    "a = int(input())\n",
    "b = int(input())\n",
    "while b:\n",
    "    a, b = b, a % b\n",
    "print(a)\n"
   ]
  },
  {
   "cell_type": "code",
   "execution_count": 9,
   "metadata": {},
   "outputs": [
    {
     "name": "stdout",
     "output_type": "stream",
     "text": [
      "4613732\n"
     ]
    }
   ],
   "source": [
    "\"\"\"\n",
    "def f(n):\n",
    "    a, b = 0, 1\n",
    "    for i in range(0, n):\n",
    "        a, b = b, a + b\n",
    "    return a\n",
    "\n",
    "def F(n):\n",
    "    if n == 0: return 0\n",
    "    elif n == 1: return 1\n",
    "    else: return F(n-1)+F(n-2)\n",
    "\"\"\"\n",
    "a, b = 1, 1\n",
    "total = 0\n",
    "while a <= 4000000:\n",
    "    if a % 2 == 0:\n",
    "        total += a\n",
    "    a, b = b, a + b  # the real formula for Fibonacci sequence\n",
    "print(total)\n"
   ]
  },
  {
   "cell_type": "code",
   "execution_count": 10,
   "metadata": {},
   "outputs": [
    {
     "name": "stdout",
     "output_type": "stream",
     "text": [
      "0F\t-17.77777777777778C\n",
      "20F\t-6.666666666666667C\n",
      "40F\t4.444444444444445C\n",
      "60F\t15.555555555555555C\n",
      "80F\t26.666666666666668C\n",
      "100F\t37.77777777777778C\n",
      "120F\t48.888888888888886C\n",
      "140F\t60.0C\n",
      "160F\t71.11111111111111C\n",
      "180F\t82.22222222222223C\n",
      "200F\t93.33333333333333C\n",
      "220F\t104.44444444444444C\n",
      "240F\t115.55555555555556C\n",
      "260F\t126.66666666666667C\n",
      "280F\t137.77777777777777C\n"
     ]
    }
   ],
   "source": [
    "lower = 0\n",
    "upper = 300\n",
    "step = 20\n",
    "fahr = lower\n",
    "while fahr < upper:\n",
    "    celsius = 5 * (fahr - 32) / 9\n",
    "    print(\"{}F\\t{}C\".format(fahr, celsius))\n",
    "    fahr = fahr + step\n"
   ]
  },
  {
   "cell_type": "code",
   "execution_count": 14,
   "metadata": {
    "collapsed": true
   },
   "outputs": [],
   "source": [
    "def greet(name, gender=''):\n",
    "    if gender == 'm':\n",
    "        print(\"Hello Mr. {}\".format(name))\n",
    "    elif gender == 'f':\n",
    "        print(\"Hello Ms. {}\".format(name))\n",
    "    else:\n",
    "        print(\"Hello {}\".format(name))\n",
    "\n",
    "\n",
    "# greet(\"Sandeep\", 'm')\n",
    "# greet('Latha', 'f')\n",
    "# greet('Machine', '')\n",
    "# greet('Machine')\n",
    "\n",
    "def gather(name, **shekar):\n",
    "    print(shekar)\n"
   ]
  },
  {
   "cell_type": "code",
   "execution_count": 12,
   "metadata": {},
   "outputs": [
    {
     "name": "stdout",
     "output_type": "stream",
     "text": [
      "24\n",
      "6\n",
      "24\n",
      "6\n",
      "4.0\n",
      "1.0\n"
     ]
    }
   ],
   "source": [
    "number1 = int(input())\n",
    "number2 = int(input())\n",
    "\n",
    "\n",
    "def gcd(a, b):\n",
    "    '''\n",
    "    Returns the greatest common divisor of a and b.\n",
    "    Should be implemented using recursion.\n",
    "\n",
    "    >>> gcd(34, 19)\n",
    "    1\n",
    "    >>> gcd(39, 91)\n",
    "    13\n",
    "    >>> gcd(20, 30)\n",
    "    10\n",
    "    >>> gcd(40, 40)\n",
    "    40\n",
    "    '''\n",
    "    if b > a:\n",
    "        return gcd(b, a)\n",
    "\n",
    "    if a % b == 0:\n",
    "        return b\n",
    "\n",
    "    return gcd(b, a % b)\n",
    "\n",
    "\n",
    "newNumber1 = number1 / gcd(number1, number2)\n",
    "newNumber2 = number2 / gcd(number1, number2)\n",
    "print(number1)\n",
    "print(number2)\n",
    "print(newNumber1)\n",
    "print(newNumber2)\n"
   ]
  },
  {
   "cell_type": "code",
   "execution_count": 15,
   "metadata": {},
   "outputs": [
    {
     "name": "stdout",
     "output_type": "stream",
     "text": [
      "1 \t\n",
      "2 \t\n",
      "3 \t\n",
      "4 \t\n",
      "5 \t\n",
      "6 \t\n",
      "2 \t\n",
      "4 \t\n",
      "6 \t\n",
      "8 \t\n",
      "10 \t\n",
      "12 \t\n",
      "3 \t\n",
      "6 \t\n",
      "9 \t\n",
      "12 \t\n",
      "15 \t\n",
      "18 \t\n",
      "4 \t\n",
      "8 \t\n",
      "12 \t\n",
      "16 \t\n",
      "20 \t\n",
      "24 \t\n",
      "5 \t\n",
      "10 \t\n",
      "15 \t\n",
      "20 \t\n",
      "25 \t\n",
      "30 \t\n",
      "6 \t\n",
      "12 \t\n",
      "18 \t\n",
      "24 \t\n",
      "30 \t\n",
      "36 \t\n"
     ]
    }
   ],
   "source": [
    "def print_multiples(n):\n",
    "    i = 1\n",
    "    while i <= 6:\n",
    "        print(n * i, '\\t')\n",
    "        i += 1\n",
    "\n",
    "\n",
    "def print_m_table():\n",
    "    i = 1\n",
    "    while i <= 6:\n",
    "        print_multiples(i)\n",
    "        i += 1\n",
    "\n",
    "\n",
    "print_m_table()\n"
   ]
  },
  {
   "cell_type": "code",
   "execution_count": 16,
   "metadata": {},
   "outputs": [
    {
     "name": "stdout",
     "output_type": "stream",
     "text": [
      "Enter lower range: 10\n",
      "Enter upper range: 200\n",
      "Prime numbers between 10 and 200 are:\n",
      "11\n",
      "13\n",
      "17\n",
      "19\n",
      "23\n",
      "29\n",
      "31\n",
      "37\n",
      "41\n",
      "43\n",
      "47\n",
      "53\n",
      "59\n",
      "61\n",
      "67\n",
      "71\n",
      "73\n",
      "79\n",
      "83\n",
      "89\n",
      "97\n",
      "101\n",
      "103\n",
      "107\n",
      "109\n",
      "113\n",
      "127\n",
      "131\n",
      "137\n",
      "139\n",
      "149\n",
      "151\n",
      "157\n",
      "163\n",
      "167\n",
      "173\n",
      "179\n",
      "181\n",
      "191\n",
      "193\n",
      "197\n",
      "199\n"
     ]
    }
   ],
   "source": [
    "lower = int(input(\"Enter lower range: \"))\n",
    "upper = int(input(\"Enter upper range: \"))\n",
    "\n",
    "print(\"Prime numbers between {} and {} are:\".format(lower, upper))\n",
    "\n",
    "for num in range(lower, upper + 1):\n",
    "    if num > 1:\n",
    "        for i in range(2, num):\n",
    "            if (num % i) == 0:\n",
    "                break\n",
    "        else:\n",
    "            print(num)\n"
   ]
  },
  {
   "cell_type": "code",
   "execution_count": 1,
   "metadata": {},
   "outputs": [
    {
     "name": "stdout",
     "output_type": "stream",
     "text": [
      "Enter Income10000\n",
      "Enter Income20000\n",
      "Enter Income30000\n",
      "Enter Incomeq\n",
      "[10000, 20000, 30000]\n",
      "No Taxation\n"
     ]
    }
   ],
   "source": [
    "revenue = []\n",
    "while True:\n",
    "    amount = input(\"Enter Income\")\n",
    "    if amount == 'q':\n",
    "        break\n",
    "    else:\n",
    "        revenue.append(int(amount))\n",
    "print(revenue)\n",
    "if sum(revenue) <= 250000:\n",
    "    print(\"No Taxation\")\n",
    "elif 25000 < sum(revenue) < 50000:\n",
    "    print(\"10%\")\n",
    "elif 50000 < sum(revenue) < 10000:\n",
    "    print(\"20%\")\n",
    "else:\n",
    "    print(\"30%\")\n"
   ]
  },
  {
   "cell_type": "code",
   "execution_count": null,
   "metadata": {
    "collapsed": true
   },
   "outputs": [],
   "source": [
    "# Take the inputs\n",
    "file_name = input(\"Enter the file name: \")\n",
    "input_file = open(file_name, 'r')\n",
    "text = input_file.read()\n",
    "\n",
    "# Count the sentences\n",
    "sentences = text.count('.') + text.count('?') + \\\n",
    "    text.count(':') + text.count(';') + \\\n",
    "    text.count('!')\n",
    "\n",
    "# Count the words\n",
    "words = len(text.split())\n",
    "\n",
    "# Count the syllables\n",
    "syllables = 0\n",
    "for word in text.split():\n",
    "    for vowel in ['a', 'e', 'i', 'o', 'u']:\n",
    "        syllables += word.count(vowel)\n",
    "\n",
    "for ending in ['es', 'ed', 'e']:\n",
    "    if word.endswith(ending):\n",
    "        syllables -= 1\n",
    "\n",
    "if word.endswith('le'):\n",
    "    syllables += 1\n",
    "\n",
    "# Compute the Flesch Index and Grade Level\n",
    "index = 206.835 - 1.015 * (words / float(sentences)) - \\\n",
    "    84.6 * (syllables / words)\n",
    "level = int(round(0.39 * (words / float(sentences)) + 11.8 *\n",
    "                  (syllables / float(words)) - 15.59))\n",
    "\n",
    "# Output the results\n",
    "print(\"The Flesch Index is\", index)\n",
    "print(\"The Grade Level Equivalent is\", level)\n",
    "print(sentences, \"sentences\")\n",
    "print(words, \"words\")\n",
    "print(syllables, \"syllables\")\n"
   ]
  },
  {
   "cell_type": "code",
   "execution_count": null,
   "metadata": {
    "collapsed": true
   },
   "outputs": [],
   "source": []
  }
 ],
 "metadata": {
  "kernelspec": {
   "display_name": "Python 3",
   "language": "python",
   "name": "python3"
  },
  "language_info": {
   "codemirror_mode": {
    "name": "ipython",
    "version": 3
   },
   "file_extension": ".py",
   "mimetype": "text/x-python",
   "name": "python",
   "nbconvert_exporter": "python",
   "pygments_lexer": "ipython3",
   "version": "3.6.1"
  }
 },
 "nbformat": 4,
 "nbformat_minor": 2
}
